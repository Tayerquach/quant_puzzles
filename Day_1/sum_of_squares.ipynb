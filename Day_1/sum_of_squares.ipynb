{
 "cells": [
  {
   "cell_type": "markdown",
   "id": "5b32e315-3539-4573-aa59-3b643da05c89",
   "metadata": {},
   "source": [
    "<div class=\"alert alert-block alert-success\">\n",
    "<h1>Sum of Squares</h1>\n",
    "<h4>JANUARY 2014: PUZZLE</h4>\n",
    "</div>"
   ]
  },
  {
   "cell_type": "markdown",
   "id": "95742736-3d82-4036-8cb4-02577e82df00",
   "metadata": {},
   "source": [
    "<img src=\"https://www.janestreet.com/puzzles/niedermaier1.png\" width=720 height=50 />\n",
    "\n",
    "The puzzle was publised at https://www.janestreet.com/puzzles/sum-of-squares-index/\n",
    "\n",
    "Place a digit in each of the 25 spots in the below 5x5 grid, so that each 5-digit number (leading zeroes are ok) reading across and reading down is divisible by the number outside the grid, trying to maximize the sum of the 25 numbers you enter. An example of a completed grid with sum 100 is presented on the right.\n",
    "\n",
    "Please submit your answer (along with any other comments you want to provide) as an ordered pair of your sum, and your 25 numbers, reading left to right, top to bottom.\n",
    "\n",
    "Example submission: (100,1623552460048932486847030)"
   ]
  },
  {
   "cell_type": "markdown",
   "id": "9efb68c4-7a5c-429f-aeec-a7e82a52087d",
   "metadata": {},
   "source": [
    "<div class=\"alert alert-block alert-warning\">\n",
    "    <h1>Break down the problem</h1>\n",
    "</div>"
   ]
  },
  {
   "cell_type": "markdown",
   "id": "2dba40c0-bc17-4841-a146-44cc9a7e5eda",
   "metadata": {},
   "source": [
    "This is a grid-based puzzle where you have a 5x5 grid, and the target is to fill each cell with a digit (0-9) to create 5-digit numbers reading across or reading down.\n",
    "\n",
    "According to the example, \n",
    "* For the fifth row we have 5 values in order 4, 7, 0, 3, 0 creating a 5-digit number: 47,030\n",
    "* For the first column we have 5 values in order 1, 5, 0, 2, 4 creating a 5-digit number: 15,024\n",
    "\n",
    "The second requirement is that the 5-digit numbers that you formed have to be divisible by the repective numbers outside the grid. Take the example above,\n",
    "* The 5-digit number at the fifth row is 47,030 has to be divisible by 5 => satisfied\n",
    "* The 5-digit number at the first column is 15,024 has to be divisible by 6 => satisfied"
   ]
  },
  {
   "cell_type": "markdown",
   "id": "9e048013-2f01-41c6-846a-0d82386f9344",
   "metadata": {},
   "source": [
    "<div class=\"alert alert-info\">\n",
    "  <h1>Solution</h1>\n",
    "</div>"
   ]
  },
  {
   "cell_type": "code",
   "execution_count": 1,
   "id": "bdddf584-a6a5-45af-b6b2-ac1fc925dd9f",
   "metadata": {},
   "outputs": [],
   "source": [
    "import numpy as np\n",
    "import time\n",
    "import seaborn as sns\n",
    "import matplotlib.pyplot as plt\n",
    "from IPython.display import Markdown\n",
    "from z3 import *"
   ]
  },
  {
   "cell_type": "markdown",
   "id": "3b53f50f-c2df-445a-a4e5-b805f2d02a55",
   "metadata": {},
   "source": [
    "### Z3 \n",
    "Z3 is the most powerful solver I have found for such flexible systems of equations. Z3 is an excellent choice now that it is released under the MIT license.\n",
    "\n",
    "If you are not familiar with Z3, you can start [here](https://github.com/Z3Prover/z3/wiki#background).\n",
    "\n",
    "Z3 can be built using Visual Studio, a Makefile or using CMake. It provides bindings for several programming languages."
   ]
  },
  {
   "cell_type": "markdown",
   "id": "a0865952-2679-4e77-a3ef-7204700ef4c6",
   "metadata": {},
   "source": [
    "#### Otimization\n",
    "Here's a basic example of solving an optimization problem using z3.optimize:\n",
    "\n",
    "In this example, we're trying to **maximize** the objective function $$max(-x - 2y)$$ subject to the constraint $$x + y <= 10$$ The solver will find the optimal values of x and y that maximize the objective function while satisfying the given constraint. Adjust the objective function and constraints as needed for your specific optimization problem."
   ]
  },
  {
   "cell_type": "code",
   "execution_count": 2,
   "id": "bcf8d2c7-d361-4c67-8877-d3ccb40a1462",
   "metadata": {},
   "outputs": [
    {
     "name": "stdout",
     "output_type": "stream",
     "text": [
      "Optimal solution:\n",
      "x = 0\n",
      "y = 0\n",
      "Objective value: 0\n"
     ]
    }
   ],
   "source": [
    "# Create a Z3 solver\n",
    "opt = Optimize()\n",
    "\n",
    "# Create integer variables for the optimization problem\n",
    "x = Int('x')\n",
    "y = Int('y')\n",
    "\n",
    "# Define the objective function to maximize (e.g., -x - 2*y)\n",
    "objective = -x - 2*y\n",
    "\n",
    "# Add the objective function to the optimizer\n",
    "opt.maximize(objective)\n",
    "\n",
    "# Add constraints (e.g., x + y <= 10)\n",
    "opt.add(x + y <= 10)\n",
    "\n",
    "# Check for a solution\n",
    "if opt.check() == sat: # return sat for satisfiable instances.\n",
    "    model = opt.model()\n",
    "    print('Optimal solution:')\n",
    "    print('x =', model[x].as_long())\n",
    "    print('y =', model[y].as_long())\n",
    "    print('Objective value:', model.evaluate(objective).as_long())\n",
    "else:\n",
    "    print('No solution found.')"
   ]
  },
  {
   "cell_type": "markdown",
   "id": "c7ee072d-272a-4bbf-be09-23f91ffd78ae",
   "metadata": {},
   "source": [
    "### Brainstorm"
   ]
  },
  {
   "cell_type": "code",
   "execution_count": 2,
   "id": "969ffc77-fbaa-479e-b990-0bd53e42310e",
   "metadata": {},
   "outputs": [],
   "source": [
    "# Setup up a 5x5 matrix of integer variables and solver \n",
    "X = np.array(IntVector(\"x\",25),dtype=object).reshape((5,5))\n",
    "s = Optimize()"
   ]
  },
  {
   "cell_type": "code",
   "execution_count": 4,
   "id": "87c42f56-2a9e-487f-9bc2-1ecd5dd4fc12",
   "metadata": {},
   "outputs": [
    {
     "data": {
      "text/plain": [
       "<z3.z3.OptimizeObjective at 0x7fb54cae29b0>"
      ]
     },
     "execution_count": 4,
     "metadata": {},
     "output_type": "execute_result"
    }
   ],
   "source": [
    "#maximise sum\n",
    "s.maximize(Sum([x for _,x in np.ndenumerate(X)]))"
   ]
  },
  {
   "cell_type": "code",
   "execution_count": 5,
   "id": "c4a0e756-8e82-4b63-88b1-745e72ba7a7f",
   "metadata": {},
   "outputs": [],
   "source": [
    "# each cell contains a value in {0, ..., 9}\n",
    "s += [And(x>=0,x<=9) for _,x in np.ndenumerate(X)]"
   ]
  },
  {
   "cell_type": "code",
   "execution_count": 6,
   "id": "f79dc6ea-3b16-4a88-b22c-421495e58341",
   "metadata": {},
   "outputs": [],
   "source": [
    "#function to turn row/col to a 5-digit number\n",
    "mult = lambda x:Sum([x[i] *10**((4)-i)  for i in range(5)]) "
   ]
  },
  {
   "cell_type": "markdown",
   "id": "9a364f61-bbb5-4b2a-8b66-27cb2f7c460f",
   "metadata": {},
   "source": [
    "For example, the number filling in the first row will be: 1, 6, 2, 3, and 5. In terms of the function, we obtain:\n",
    "$$1*10^4 = 10,000$$\n",
    "$$6*10^3 = 6,000$$\n",
    "$$2*10^2 = 200$$\n",
    "$$3*10^1 = 30$$\n",
    "$$5*10^0 = 5$$\n",
    "\n",
    "The number is $$10,000 + 6,000 + 200 + 30 + 5 = 16,235$$"
   ]
  },
  {
   "cell_type": "code",
   "execution_count": 7,
   "id": "080fb8bf-5242-4139-b6fe-dd95824dc760",
   "metadata": {},
   "outputs": [],
   "source": [
    "# Rows\n",
    "# The numbers outside the rows are respectively: 1, 2, 3, 4, 5\n",
    "s += [mult(X[i,:]) % (i+1)==0 for i in range(5)]"
   ]
  },
  {
   "cell_type": "code",
   "execution_count": 8,
   "id": "ad5406c3-d7d7-423f-a11a-0c1a915cea20",
   "metadata": {},
   "outputs": [],
   "source": [
    "# Cols\n",
    "# The numbers outside the rows are respectively: 6, 7, 8, 9, 10\n",
    "s += [mult(X[:,i]) % (i+6)==0 for i in range(5)] "
   ]
  },
  {
   "cell_type": "code",
   "execution_count": 10,
   "id": "16a0468b-2061-4f69-bbfa-4155ed91877e",
   "metadata": {},
   "outputs": [
    {
     "data": {
      "text/markdown": [
       "**Solved in 1.0787 seconds. Answer is : 205**"
      ],
      "text/plain": [
       "<IPython.core.display.Markdown object>"
      ]
     },
     "metadata": {},
     "output_type": "display_data"
    },
    {
     "data": {
      "image/png": "[encoded data removed]",
      "text/plain": [
       "<Figure size 300x300 with 1 Axes>"
      ]
     },
     "metadata": {},
     "output_type": "display_data"
    },
    {
     "name": "stdout",
     "output_type": "stream",
     "text": [
      "205 , 9899999998798999989689890\n"
     ]
    }
   ],
   "source": [
    "start = time.time()\n",
    "# Solve and print \n",
    "if s.check() == sat:\n",
    "    m = s.model()\n",
    "    evalu = np.vectorize(lambda x:m.evaluate(x).as_long())\n",
    "    r = evalu(X)\n",
    "else:\n",
    "    print(\"Failed\")\n",
    "    \n",
    "display(Markdown(\"**Solved in {:.4f} seconds. Answer is : {}**\".format(time.time()-start,np.sum(r))))\n",
    "fig,ax = plt.subplots(1,1,figsize=(3,3))\n",
    "ax = sns.heatmap(np.zeros_like(r),annot=r,cbar=False,cmap=\"Greys\",linecolor='k',linewidth=2,\n",
    "                 xticklabels=[6,7,8,9,10], yticklabels=[1,2,3,4,5], annot_kws={\"fontsize\":18})\n",
    "ax.tick_params(left=False, bottom=False,labelleft=False, labelright=True)\n",
    "plt.xticks(rotation=0,fontsize =12)\n",
    "plt.yticks(rotation=0,fontsize =12)\n",
    "plt.tight_layout()\n",
    "plt.show()\n",
    "fig.savefig('sum_of_squares_result.png')\n",
    "\n",
    "print(np.sum(r),\",\",\"\".join([str(x) for _,x in np.ndenumerate(r)]))"
   ]
  },
  {
   "cell_type": "markdown",
   "id": "2dc262a2-1770-4e7b-87ec-3d190ba393f7",
   "metadata": {},
   "source": [
    "<div class=\"alert alert-info\">\n",
    "  <h1>Public Solution</h1>\n",
    "</div>"
   ]
  },
  {
   "cell_type": "markdown",
   "id": "4a312f2f-7ef0-4796-9bd2-c3b098f9dde6",
   "metadata": {},
   "source": [
    "<img src=\"https://www.janestreet.com/puzzles/Jan14_Solution.png\" width=720 height=50 />\n",
    "\n",
    "The BEST SOLUTION was publised at https://www.janestreet.com/puzzles/sum-of-squares-index/"
   ]
  },
  {
   "cell_type": "code",
   "execution_count": null,
   "id": "3abcfe96-4fe9-413e-81a6-93f637de4146",
   "metadata": {},
   "outputs": [],
   "source": []
  }
 ],
 "metadata": {
  "kernelspec": {
   "display_name": "Python 3 (ipykernel)",
   "language": "python",
   "name": "python3"
  },
  "language_info": {
   "codemirror_mode": {
    "name": "ipython",
    "version": 3
   },
   "file_extension": ".py",
   "mimetype": "text/x-python",
   "name": "python",
   "nbconvert_exporter": "python",
   "pygments_lexer": "ipython3",
   "version": "3.10.9"
  }
 },
 "nbformat": 4,
 "nbformat_minor": 5
}
