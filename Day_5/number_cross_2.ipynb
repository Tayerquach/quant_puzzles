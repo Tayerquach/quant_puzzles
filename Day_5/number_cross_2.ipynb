{
 "cells": [
  {
   "cell_type": "markdown",
   "id": "0078208e-a8fe-440b-9dcd-a29e16f3d79f",
   "metadata": {},
   "source": [
    "<div class=\"alert alert-block alert-success\">\n",
    "<h1>Number Cross</h1>\n",
    "<h4>AUGUST 2015: PUZZLE</h4>\n",
    "</div>"
   ]
  },
  {
   "cell_type": "markdown",
   "id": "32067961-6548-4f95-b8e7-051f580c0554",
   "metadata": {},
   "source": [
    "<img src=\"https://www.janestreet.com/puzzles/number_crossword_2.png\" width=720 height=20 />\n",
    "\n",
    "The puzzle was publised at https://www.janestreet.com/puzzles/number-cross-2-index/\n",
    "\n",
    "Fill the cells in this crossword with the digits 1 through 9 (no zeroes). Each clue in this crossword represents either the sum of the digits or the product of the digits in its corresponding answer - it's up to you to decide which. The clue could potentially represent both the sum and the product, if the sum and product are the same. Digits can be repeated within an answer, and answers can be repeated in the grid.\n",
    "\n",
    "As your answer, submit the sum of all of the digits you entered into the completed grid."
   ]
  },
  {
   "cell_type": "markdown",
   "id": "7ce93259-83fa-4aac-b1bf-f7f037602a16",
   "metadata": {},
   "source": [
    "<div class=\"alert alert-block alert-warning\">\n",
    "    <h1>Break down the problem</h1>\n",
    "</div>"
   ]
  },
  {
   "cell_type": "markdown",
   "id": "b28a171a-c10a-42ab-bf1d-66f7bd67f6cc",
   "metadata": {},
   "source": [
    "In order to solve this 9 x 9 grid puzzle, we have to:\n",
    "\n",
    "**Requirement**\n",
    "\n",
    "* Place the digits from 1 to 9 (no zeroes) in the grid to satisfy all of the provided clues.\n",
    "* You need to indicate whether each clue represents the sum or the product of the inputted digits.\n",
    "* Of course, a clue could be both the sum and the product. For example, if a clue asks the number 6, the digits could be 1, 2, 3, and that clue will represent the sum of 6 or the product of 6.\n",
    "* Digits can be repeated within a clue (e.g., 323, 232, 555 ...)\n",
    "* Answers can be used more than once within the puzzle.\n",
    "\n",
    "**Submission**\n",
    "The sum of all the digits in the completed grid is your submission to the puzzle."
   ]
  },
  {
   "cell_type": "markdown",
   "id": "e5b722f4-915c-4fbb-8aaa-aaf2939adf7d",
   "metadata": {},
   "source": [
    "<div class=\"alert alert-info\">\n",
    "  <h1>Solution</h1>\n",
    "</div>"
   ]
  },
  {
   "cell_type": "code",
   "execution_count": 36,
   "id": "76a1970d-04b4-47be-bef3-672fb3eb6a21",
   "metadata": {},
   "outputs": [],
   "source": [
    "import numpy as np\n",
    "import time\n",
    "import itertools\n",
    "import seaborn as sns\n",
    "import matplotlib.pyplot as plt\n",
    "from IPython.display import Markdown\n",
    "from z3 import *"
   ]
  },
  {
   "cell_type": "markdown",
   "id": "45b9ba1c-8f37-4b77-9828-3a6131a24008",
   "metadata": {},
   "source": [
    "## Create a 9x9 grid as the question"
   ]
  },
  {
   "cell_type": "code",
   "execution_count": 37,
   "id": "299bda79-2f56-404d-8b44-e9b59c231318",
   "metadata": {},
   "outputs": [],
   "source": [
    "# The white cell will be 0, while the black cell will be 1\n",
    "grid = np.array(\n",
    "                [[0, 0, 0, 0, 1, 0, 0, 0, 0],\n",
    "                 [0, 0, 0, 0, 1, 0, 0, 0, 0],\n",
    "                 [1, 0, 0, 0, 0, 1, 0, 0, 0],\n",
    "                 [0, 0, 0, 0, 0, 0, 0, 1, 1],\n",
    "                 [0, 0, 1, 0, 0, 0, 1, 0, 0],\n",
    "                 [1, 1, 0, 0, 0, 0, 0, 0, 0],\n",
    "                 [0, 0, 0, 1, 0, 0, 0, 0, 1],\n",
    "                 [0, 0, 0, 0, 1, 0, 0, 0, 0],\n",
    "                 [0, 0, 0, 0, 1, 0, 0, 0, 0]\n",
    "                ], dtype=int)"
   ]
  },
  {
   "cell_type": "markdown",
   "id": "0873b611-8bbd-4faa-830f-e1def99c1d66",
   "metadata": {},
   "source": [
    "## Set up utility functions"
   ]
  },
  {
   "cell_type": "code",
   "execution_count": 38,
   "id": "b73fcee0-68a8-4280-9a31-867df8185a8f",
   "metadata": {},
   "outputs": [],
   "source": [
    "def make_across(row,start,length,total):\n",
    "    \"\"\"\n",
    "    Create the variables for the grid entry reading across\n",
    "    \n",
    "    Parameters:\n",
    "    x: the rows' positions.\n",
    "    start: the first position that the entry grid starts\n",
    "    length: the number of digit needs to be entered.\n",
    "    total: the clue's value\n",
    "    \n",
    "    Return: a z3 object contained the bool decisions for a given grid entry.\n",
    "    E.g., Clue #1: Or(x__0 + x__1 + x__2 + x__3 == 9, x__0*x__1*x__2*x__3 == 9)\n",
    "    \"\"\"\n",
    "    clue = [X[row,i] for i in range(start,start+length)]\n",
    "    return  Or(Sum(clue)==total,Product(clue)==total)\n",
    "\n",
    "def make_down(col,start,length,total):\n",
    "    \"\"\"\n",
    "    Create the variables for the grid entry reading down\n",
    "    \n",
    "    Parameters:\n",
    "    x: the columns' positions.\n",
    "    start: the first position that the entry grid starts\n",
    "    length: the number of digit needs to be entered.\n",
    "    total: the clue's value\n",
    "    \n",
    "    Return: a z3 object contained the bool decisions for a given grid entry.\n",
    "    E.g., Clue #1: Or(x__0 + x__9 == 45, x__0*x__9 == 45)\n",
    "    \"\"\"\n",
    "    clue = [X[i,col] for i in range(start,start+length)]    \n",
    "    return  Or(Sum(clue)==total,Product(clue)==total)"
   ]
  },
  {
   "cell_type": "markdown",
   "id": "056ca5a3-f977-417d-8194-8fa5f4512702",
   "metadata": {},
   "source": [
    "## Set up solver and matrix"
   ]
  },
  {
   "cell_type": "code",
   "execution_count": 39,
   "id": "3f6ae1c9-1b4f-4162-aeaa-2fc83ff89a96",
   "metadata": {},
   "outputs": [],
   "source": [
    "# Setup # 9x9 matrix of integer variables and solver \n",
    "X = np.array(IntVector(\"x\",9*9),dtype=object).reshape((9,9))\n",
    "s = Tactic(\"qflia\").solver()"
   ]
  },
  {
   "cell_type": "markdown",
   "id": "375a0fc1-73a0-4163-aa84-b40bc4607c73",
   "metadata": {},
   "source": [
    "### QF_LIA Logic"
   ]
  },
  {
   "cell_type": "markdown",
   "id": "3430bb16-56ef-4df4-b35c-35132d4166fc",
   "metadata": {},
   "source": [
    "**QF_LIA** stands for \"Quantifier-Free Linear Integer Arithmetic,\" and it is a logical theory within the realm of formal logic and automated theorem proving. This theory is used to express and reason about constraints and formulas involving linear integer arithmetic operations. \n",
    "* **Quantifier-Free**: In QF_LIA, formulas and constraints do not contain quantifiers like \"for all\" (∀) or \"there exists\" (∃).\n",
    "* **Linear Integer Arithmetic**: QF_LIA focuses on linear relationships between integer variables. It deals with basic integer arithmetic operations, including addition, subtraction, and comparison operations (e.g., less than, greater than, less than or equal to, greater than or equal to)."
   ]
  },
  {
   "cell_type": "markdown",
   "id": "a2728c18-4b81-46d4-aab0-f0c2246d058b",
   "metadata": {},
   "source": [
    "## Cell conditions"
   ]
  },
  {
   "cell_type": "code",
   "execution_count": 40,
   "id": "1b195861-2a76-4ae0-a050-6978d7252fbc",
   "metadata": {},
   "outputs": [],
   "source": [
    "# each cell contains a value 1-9 or is blocked\n",
    "s += [And(e>0,e<=9) if grid[i,j] !=1 else e==0 for (i,j),e in np.ndenumerate(X)]"
   ]
  },
  {
   "cell_type": "markdown",
   "id": "abea16f6-61bc-4613-9370-2bbe4aecaa82",
   "metadata": {},
   "source": [
    "## Set up the clues"
   ]
  },
  {
   "cell_type": "code",
   "execution_count": 41,
   "id": "ef52f301-6d68-4ec6-9eb6-6969c5b57285",
   "metadata": {},
   "outputs": [],
   "source": [
    "s += make_across(0,0,4,9)   #1\n",
    "s += make_across(0,5,4,35)  #5\n",
    "s += make_across(1,0,4,10)  #9            \n",
    "s += make_across(1,5,4,30)  #10  \n",
    "s += make_across(2,1,4,7)   #11  \n",
    "s += make_across(2,6,3,10)  #13   \n",
    "s += make_across(3,0,7,42)  #14  \n",
    "s += make_across(4,0,2,21)  #16  \n",
    "s += make_across(4,3,3,25)  #17 \n",
    "s += make_across(4,7,2,15)  #18 \n",
    "s += make_across(5,2,7,120) #20\n",
    "s += make_across(6,0,3,25)  #22\n",
    "s += make_across(6,4,4,35)  #24\n",
    "s += make_across(7,0,4,21)  #25\n",
    "s += make_across(7,5,4,9)   #27\n",
    "s += make_across(8,0,4,5)   #29\n",
    "s += make_across(8,5,4,8)   #30\n",
    "\n",
    "s += make_down(0,0,2,45) #1\n",
    "s += make_down(1,0,5,20) #2\n",
    "s += make_down(2,0,4,48) #3\n",
    "s += make_down(3,0,6,72) #4\n",
    "s += make_down(5,0,2,18) #5\n",
    "s += make_down(6,0,4,24) #6\n",
    "s += make_down(7,0,3,27) #7\n",
    "s += make_down(8,0,3,26) #8\n",
    "s += make_down(4,2,5,12) #12\n",
    "s += make_down(0,3,2,18) #14\n",
    "s += make_down(5,3,6,32) #15\n",
    "s += make_down(7,4,5,45) #18\n",
    "s += make_down(8,4,2,20) #19\n",
    "s += make_down(2,5,4,30) #20\n",
    "s += make_down(6,5,4,12) #21\n",
    "s += make_down(0,6,3,70) #22\n",
    "s += make_down(1,6,3,12) #23\n",
    "s += make_down(3,7,2,2)  #26\n",
    "s += make_down(8,7,2,36) #28"
   ]
  },
  {
   "cell_type": "markdown",
   "id": "7beee4e3-c00b-4065-9a8c-b088314cb6ce",
   "metadata": {},
   "source": [
    "## Solve and print the result"
   ]
  },
  {
   "cell_type": "code",
   "execution_count": 42,
   "id": "2eff7b46-7223-4321-a8f0-44b283078b63",
   "metadata": {},
   "outputs": [
    {
     "data": {
      "text/markdown": [
       "**Solved in 114.1757 seconds. Solution is: 276**"
      ],
      "text/plain": [
       "<IPython.core.display.Markdown object>"
      ]
     },
     "metadata": {},
     "output_type": "display_data"
    },
    {
     "data": {
      "image/png": "[encoded data removed]",
      "text/plain": [
       "<Figure size 400x400 with 1 Axes>"
      ]
     },
     "metadata": {},
     "output_type": "display_data"
    }
   ],
   "source": [
    "# Solve and print \n",
    "start = time.time()\n",
    "if s.check() == sat:\n",
    "    m = s.model()\n",
    "    evalu = np.vectorize(lambda x:m.evaluate(x).as_long())\n",
    "    r = evalu(X)\n",
    "else:\n",
    "    print(\"Failed\")\n",
    "\n",
    "display(Markdown(\"**Solved in {:.4f} seconds. Solution is: {:.0f}**\".\n",
    "                 format(time.time()-start,np.sum(r))))\n",
    "\n",
    "fig,ax = plt.subplots(1,1,figsize=(4,4))\n",
    "ax =sns.heatmap(grid,annot=r,cbar=False,cmap=\"Greys\",\n",
    "                fmt=\"\",linewidths=2,annot_kws={\"size\":14,\"color\":\"k\"},linecolor='k')\n",
    "ax.axis(\"off\")\n",
    "plt.show()"
   ]
  },
  {
   "cell_type": "markdown",
   "id": "2122e64b-9121-4550-9787-74e705571c73",
   "metadata": {},
   "source": [
    "<div class=\"alert alert-info\">\n",
    "  <h1>Public Solution</h1>\n",
    "</div>"
   ]
  },
  {
   "cell_type": "markdown",
   "id": "74825f7d-9c29-48d8-89c4-3fa619e695f7",
   "metadata": {},
   "source": [
    "<img src=\"https://www.janestreet.com/puzzles/number_crossword_2_solution.png\" width=720 height=50 />\n",
    "\n",
    "The BEST SOLUTION was publised at https://www.janestreet.com/puzzles/number-cross-2-solution/"
   ]
  },
  {
   "cell_type": "code",
   "execution_count": null,
   "id": "fc0bbd8f-359f-42f9-a803-9ddfa9b9a2a0",
   "metadata": {},
   "outputs": [],
   "source": []
  }
 ],
 "metadata": {
  "kernelspec": {
   "display_name": "Python 3 (ipykernel)",
   "language": "python",
   "name": "python3"
  },
  "language_info": {
   "codemirror_mode": {
    "name": "ipython",
    "version": 3
   },
   "file_extension": ".py",
   "mimetype": "text/x-python",
   "name": "python",
   "nbconvert_exporter": "python",
   "pygments_lexer": "ipython3",
   "version": "3.10.9"
  }
 },
 "nbformat": 4,
 "nbformat_minor": 5
}
