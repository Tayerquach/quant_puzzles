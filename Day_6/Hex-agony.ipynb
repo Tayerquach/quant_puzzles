{
 "cells": [
  {
   "cell_type": "markdown",
   "id": "2c799099-8831-4bde-8212-c363f2668b6e",
   "metadata": {},
   "source": [
    "<div class=\"alert alert-block alert-success\">\n",
    "<h1>Hex-agony</h1>\n",
    "<h4>OCTOBER 2015: PUZZLE</h4>\n",
    "</div>"
   ]
  },
  {
   "cell_type": "markdown",
   "id": "aa744ab9-8815-4a71-8040-10cecbbc5c67",
   "metadata": {},
   "source": [
    "# Hex-agony\n",
    "The grid below is incomplete: add non-negative integers to some (perhaps not all) of the hexes so that the following conditions are satisfied:\n",
    "1. Each <span style=\"color: red;\">red</span> nember equals to the **sum of the <span style=\"color: blue;\">blue</span> numbers** in its view.\n",
    "2. Each <span style=\"color: blue;\">blue</span> number equals to the **maximum of the <span style=\"color: green;\">green</span> numbers** in its view.\n",
    "    (Or 0, if no <span style=\"color: green;\">green</span> numbers are viewable)\n",
    "3. Each <span style=\"color: green;\">green</span> number equals to the **product of the black numbers** in its view.\n",
    "    (Or 1, if no **black** numbers are viewable)\n",
    "4. Each **black** equals to **the number of red numbers** in its view.\n",
    "\n",
    "(* A number is viewable from a hex if it is in the same column or diagonal as that hex.)\n",
    "\n",
    "**To enter, submit the largest possible sum for the numbers in the middle column.**"
   ]
  },
  {
   "cell_type": "markdown",
   "id": "bb33b48f-931a-4031-99c8-c878deab6193",
   "metadata": {},
   "source": [
    "<img src=\"photo/problem.png\" width=720 height=20 />"
   ]
  },
  {
   "cell_type": "markdown",
   "id": "3bccd030-4974-4360-9f16-b9f689376faa",
   "metadata": {},
   "source": [
    "The puzzle was publised at https://www.janestreet.com/puzzles/hex-agony-index/"
   ]
  },
  {
   "cell_type": "markdown",
   "id": "0536eec7-61c3-480d-899e-d29565a04262",
   "metadata": {},
   "source": [
    "<div class=\"alert alert-block alert-warning\">\n",
    "    <h1>Break down the problem</h1>\n",
    "</div>"
   ]
  },
  {
   "cell_type": "markdown",
   "id": "76d61b22-49ab-499b-886b-1a23afb05099",
   "metadata": {},
   "source": [
    "This puzzle challenges you to fill in a grid of hexagons with numbers according to a set of rules. Each hexangon has a unique color and specific rules associated with them. The objective is to strategically place non-negative integers in certain hexagons so that all the given requirements are met. Let's break down the rules:\n",
    "\n",
    "**Requirements**\n",
    "\n",
    "1. <span style=\"color: red;\">Red</span> Numbers: Each red number should be equal to the **sum of the <span style=\"color: blue;\">blue</span> numbers** in its view. Red numbers can \"see\" blue numbers if they are in the same column or diagonal as the red number.\n",
    "2. <span style=\"color: blue;\">Blue</span> Numbers: Each blue number should be equal to the **maximum of the <span style=\"color: green;\">green</span> numbers** in its view, or 0 if no green numbers are visible. Blue numbers can \"see\" green numbers that are in the same column or diagonal as the blue number.\n",
    "3. <span style=\"color: green;\">Green</span> Numbers: Each green number should be equal to the **product of the black numbers** in its view, or 1 if no black numbers are visible. Green numbers can \"see\" black numbers that are in the same column or diagonal as the green number.\n",
    "4. **Black** Numbers: Each black number should be equal to **the number of red numbers** in its view. Black numbers can \"see\" red numbers that are in the same column or diagonal as the black number.\n",
    "\n",
    "**Submission**\n",
    "\n",
    "Your task is to fill in the grid such that all of these conditions are satisfied. The puzzle is asking for the largest possible sum of the numbers in the middle column once you've completed the grid."
   ]
  },
  {
   "cell_type": "markdown",
   "id": "1ce5565b-0625-40d8-b184-f580af8d6610",
   "metadata": {},
   "source": [
    "<div class=\"alert alert-info\">\n",
    "  <h1>Solution</h1>\n",
    "</div>"
   ]
  },
  {
   "cell_type": "markdown",
   "id": "ffc3039a-b95a-47ab-b452-da80d1a6ab81",
   "metadata": {},
   "source": [
    "## Import necessary modules and libraries"
   ]
  },
  {
   "cell_type": "code",
   "execution_count": 32,
   "id": "2c053e41-14b8-43ca-95f6-a9bd7dca8f30",
   "metadata": {},
   "outputs": [],
   "source": [
    "import numpy as np\n",
    "import time\n",
    "import itertools\n",
    "import seaborn as sns\n",
    "import matplotlib.pyplot as plt\n",
    "from matplotlib.patches import RegularPolygon\n",
    "from IPython.display import Markdown\n",
    "from z3 import *"
   ]
  },
  {
   "cell_type": "markdown",
   "id": "74a6c5d9-a2a0-4ed4-b399-560a3b2bb349",
   "metadata": {},
   "source": [
    "### Prime Factors"
   ]
  },
  {
   "cell_type": "markdown",
   "id": "64878f7d-f366-4203-b284-1eb7c7317dfc",
   "metadata": {},
   "source": [
    "Prime factors are the prime numbers that multiply together to give a particular number.\n",
    "For example, let's find the prime factors of 60:\n",
    "$$60÷2 =30$$\n",
    "$$30÷2 =15$$\n",
    "$$15÷3 =5$$\n",
    "$$5÷5  =1$$\n",
    "So, the prime factorization of 60 is $2^2 x 3 x 5$, and the prime factors are **2, 3, and 5**."
   ]
  },
  {
   "cell_type": "markdown",
   "id": "186d9f06-610f-4f19-b69b-b0ff867425bd",
   "metadata": {},
   "source": [
    "### Finding prime factors in Python using SymPy"
   ]
  },
  {
   "cell_type": "code",
   "execution_count": 33,
   "id": "25f5fcd3-4ef4-43bd-83b6-517e388b9a88",
   "metadata": {},
   "outputs": [
    {
     "name": "stdout",
     "output_type": "stream",
     "text": [
      "The prime factors of 60 are: [2, 3, 5]\n"
     ]
    }
   ],
   "source": [
    "from sympy.ntheory import primefactors\n",
    "number = 60\n",
    "factors = primefactors(number)\n",
    "\n",
    "print(f\"The prime factors of {number} are: {factors}\")"
   ]
  },
  {
   "cell_type": "markdown",
   "id": "e05cbe74-ec09-4038-8825-ea2a2d668baf",
   "metadata": {},
   "source": [
    "## Form Coordinates for the grid"
   ]
  },
  {
   "cell_type": "markdown",
   "id": "dd606e94-2ec0-4dec-b155-412676605b78",
   "metadata": {},
   "source": [
    "<img src=\"photo/explanation-1.png\" width=720 height=30 />"
   ]
  },
  {
   "cell_type": "markdown",
   "id": "ee547ebb-5dd4-4f50-be78-9b1d89f65741",
   "metadata": {},
   "source": [
    "**Comment**:\n",
    "All values in a position will have a sum of 0. For example, (0, 4, -4): 0 + 4 + (-4) = 0"
   ]
  },
  {
   "cell_type": "markdown",
   "id": "4d788379-5e59-481e-a761-a6e871713285",
   "metadata": {},
   "source": [
    "## Create hexagony"
   ]
  },
  {
   "cell_type": "code",
   "execution_count": 100,
   "id": "223fefb9-d6c3-4c9a-a986-7ae8836045ee",
   "metadata": {},
   "outputs": [],
   "source": [
    "def hex_print(coord,colors,labels):    \n",
    "    # Horizontal cartesian coords\n",
    "    hcoord = [c[0] for c in coord]\n",
    "\n",
    "    # Vertical cartersian coords\n",
    "    vcoord = [2. * np.sin(np.radians(60)) * (c[1] - c[2]) /3. for c in coord]\n",
    "    \n",
    "    # 7-green: (-1, 4, -3)\n",
    "    # 0-red: (-2, 4, -2)\n",
    "    # 3997-red: (4, 0, -4)\n",
    "    # 3059-blue: (1, 2, -3)\n",
    "    # 854-red: (4, -2, -2)\n",
    "    # 121121-blue: (2, -1, -1)\n",
    "    # 847-green: (-4, 2, 2)\n",
    "    # 0-red: (-3, 0, 3)\n",
    "    # 7-red: (-2, -2, 4)\n",
    "    # 11-black: (1, -3, 2)\n",
    "    # 7-red: (3, -4, 1)\n",
    "    \n",
    "    givens = [[-1, 4, -3], \n",
    "              [-2, 4, -2], \n",
    "              [4, 0, -4], \n",
    "              [1, 2, -3], \n",
    "              [4, -2, -2], \n",
    "              [2, -1, -1], \n",
    "              [-4, 2, 2], \n",
    "              [-3, 0, 3], \n",
    "              [-2, -2, 4], \n",
    "              [1, -3, 2], \n",
    "              [3, -4, 1]]\n",
    "    \n",
    "    border = [1 if list(x) in givens else 0 for x in coord]\n",
    "    fig, ax = plt.subplots(1,figsize=(10,10))\n",
    "    ax.set_aspect('equal')\n",
    "   \n",
    "    # Add some coloured hexagons\n",
    "    for x, y, c, l, b in zip(hcoord, vcoord, colors, labels, border):\n",
    "        color = c[0].lower()  # matplotlib understands lower case words for colours\n",
    "        hex = RegularPolygon((x, y), numVertices=6, radius=2. / 3., facecolor=color,\n",
    "                         orientation=np.radians(30), alpha=0.2, edgecolor=\"grey\")\n",
    "        \n",
    "        ax.add_patch(hex)\n",
    "        # Also add a text label\n",
    "        ax.text(x, y+0.2, l, ha='center', va='center', size=10)\n",
    "        if b == 1:\n",
    "            hex2 = RegularPolygon((x, y), numVertices=6, radius=2. / 3.,\n",
    "                         orientation=np.radians(30), alpha=1,fill= False, edgecolor=\"k\")        \n",
    "            ax.add_patch(hex2)\n",
    "        \n",
    "    # Also add scatter points in hexagon centres\n",
    "    ax.scatter(hcoord, vcoord, c=[c[0].lower() for c in colors], alpha=0)\n",
    "    plt.axis(\"off\")\n",
    "    plt.show()"
   ]
  },
  {
   "cell_type": "markdown",
   "id": "6e46c0c0-516a-440b-85f5-d3d75b80b57a",
   "metadata": {},
   "source": [
    "Since each <span style=\"color: blue;\">blue</span> number equals to the maximum of the <span style=\"color: green;\">green</span> numbers while the <span style=\"color: green;\">green</span> numbers equal the product of the black numbers, we should find the **prime factors** of both <span style=\"color: blue;\">blue</span> and <span style=\"color: blue;\">green</span> numbers in the Hexagony."
   ]
  },
  {
   "cell_type": "code",
   "execution_count": 35,
   "id": "8d39cb11-8091-4ae1-a949-bfef270f98d0",
   "metadata": {},
   "outputs": [
    {
     "name": "stdout",
     "output_type": "stream",
     "text": [
      "[7, 11, 13]\n",
      "121121\n",
      "[7, 19, 23]\n",
      "3059\n",
      "[7, 11]\n",
      "847\n",
      "[7]\n",
      "7\n"
     ]
    }
   ],
   "source": [
    "print(primefactors(121121)) # Blue number\n",
    "print(7*11*11*11*13)\n",
    "print(primefactors(3059)) # Blue number\n",
    "print(7*19*23)\n",
    "print(primefactors(847)) # Green number\n",
    "print(7*11*11)\n",
    "print(primefactors(7)) # Green number\n",
    "print(7)"
   ]
  },
  {
   "cell_type": "markdown",
   "id": "1dd9f118-17a4-4ecf-ac45-3fcc1c72f70f",
   "metadata": {},
   "source": [
    "## Inferred values\n",
    "This is the final inferred values after we discussed on [this article](https://medium.com/@quachmaiboi/self-study-plan-for-quant-researcher-puzzle-day-6-4c622797f00a)"
   ]
  },
  {
   "cell_type": "markdown",
   "id": "81e97144-dfed-4441-9795-a534183975ec",
   "metadata": {},
   "source": [
    "<img src=\"photo/explanation-17.png\" width=650 height=30 />"
   ]
  },
  {
   "cell_type": "markdown",
   "id": "e3c6f662-0d03-4377-880a-73073a670f9c",
   "metadata": {},
   "source": [
    "## Create points and corresponding colors"
   ]
  },
  {
   "cell_type": "code",
   "execution_count": 212,
   "id": "fe3a25cc-5442-45a0-9bef-0792de94377e",
   "metadata": {},
   "outputs": [],
   "source": [
    "point = {}\n",
    "point_colour = {}\n",
    "cols = [\"k\",\"b\",\"r\",\"g\",\"w\"] #k: grey -> black numbers, b: blue -> blue numbers, r: red -> red numbers, g: green -> green numbers, w: white -> None\n",
    "# 0: Black, 1: Blue, 2: Red, 3: Green, 4: White\n",
    "lab_col= [2,2,3,2,2, # Column 1: (bottom -> top, left) red, red, green, red, red\n",
    "          0,2,2,2,2,4, # Column 2: black, red, red, red, red, white\n",
    "          2,2,2,0,3,2,2, # Column 3: red, red, red, black, green, red, red\n",
    "          3,3,3,2,2,0,3,3, # Column 4: green, green, green, red, red, black, green, green\n",
    "          2,2,2,2,0,2,2,2,2, # Column 5: red, red, red, red, black, red, red, red, red\n",
    "          2,0,2,2,2,2,1,1, # Column 6: red, black, red, red, red, red, blue, blue\n",
    "          0,2,2,1,2,2,1, # Column 7: black, red, red, blue, red, red, blue\n",
    "          2,2,1,0,2,2, # Column 8: red, red, blue, black, red, red\n",
    "          2,1,2,2,2 # Column 9: red, blue, red, red, red\n",
    "         ] "
   ]
  },
  {
   "cell_type": "markdown",
   "id": "1fc4aa45-d5f3-45bf-85f1-3223d789442b",
   "metadata": {},
   "source": [
    "## Set up solver"
   ]
  },
  {
   "cell_type": "code",
   "execution_count": 213,
   "id": "fb3f0c12-d36f-4011-84bc-1e1f3131830d",
   "metadata": {},
   "outputs": [],
   "source": [
    "s = Optimize()"
   ]
  },
  {
   "cell_type": "markdown",
   "id": "d397ba16-bd98-4086-9a88-efa55733f323",
   "metadata": {},
   "source": [
    "## Set up the coordinates and colors for hexes"
   ]
  },
  {
   "cell_type": "code",
   "execution_count": 214,
   "id": "bc512618-f27e-4d05-8026-5c89dce372c3",
   "metadata": {},
   "outputs": [
    {
     "data": {
      "text/plain": [
       "<z3.z3.OptimizeObjective at 0x7fb1f720c0d0>"
      ]
     },
     "execution_count": 214,
     "metadata": {},
     "output_type": "execute_result"
    }
   ],
   "source": [
    "x=0\n",
    "\n",
    "#Set up the variables\n",
    "for i,j,k in itertools.product(range(-4,5),range(-4,5),range(-4,5)):\n",
    "    if i+j+k !=0:\n",
    "        continue\n",
    "    point[(i,j,k)] = Int(\"x_%s_%s_%s\" % (i + 5, j + 5, k + 5))\n",
    "    point_colour[(i,j,k)] = Int(\"c_%s_%s_%s\" % (i + 5, j + 5, k + 5))\n",
    "    x += 1\n",
    "s.maximize(Sum([point[(x,y,z)] for x,y,z in point.keys() if x == 0]))"
   ]
  },
  {
   "cell_type": "markdown",
   "id": "e389be5d-4a2a-48e9-9669-46047aabc662",
   "metadata": {},
   "source": [
    "## Set up values for hexes"
   ]
  },
  {
   "cell_type": "code",
   "execution_count": 215,
   "id": "179147ea-3ca7-4402-ac65-afa6982fbe54",
   "metadata": {},
   "outputs": [],
   "source": [
    "s += [point[(i,j,k)] > -1 for (i,j,k) in point.keys()]\n",
    "s += [And(point_colour[(i,j,k)] >=0,point_colour[(i,j,k)] <5)  for (i,j,k) in point_colour.keys()]"
   ]
  },
  {
   "cell_type": "markdown",
   "id": "4bc8d190-0590-4d87-b2c8-3cfa3f16b4c4",
   "metadata": {},
   "source": [
    "<div class=\"alert alert-info\">\n",
    "  <h3>3059-Blue</h3>\n",
    "</div>"
   ]
  },
  {
   "cell_type": "code",
   "execution_count": 216,
   "id": "306e9511-44f8-4d57-b4ec-a9365e07a24b",
   "metadata": {},
   "outputs": [],
   "source": [
    "# A 23-black tile in the centre.\n",
    "s += point[(0,0,0)] == 23\n",
    "s += point_colour[(0,0,0)] == 0"
   ]
  },
  {
   "cell_type": "code",
   "execution_count": 217,
   "id": "c8f97910-1983-4179-8e47-0b1bb47cfb83",
   "metadata": {},
   "outputs": [],
   "source": [
    "# The other 19-black is here\n",
    "s += point[(-2,1,1)] == 19\n",
    "s += point_colour[(-2,1,1)] == 0"
   ]
  },
  {
   "cell_type": "code",
   "execution_count": 218,
   "id": "a16d5573-6761-46f9-ab0d-4b3d8377db17",
   "metadata": {},
   "outputs": [],
   "source": [
    "# As a result, the 3059-green is here\n",
    "s += point[(-2,2,0)] == 3059\n",
    "s += point_colour[(-2,2,0)] == 3"
   ]
  },
  {
   "cell_type": "markdown",
   "id": "5e0beddb-f9f5-49ce-bf69-36ee61f628a0",
   "metadata": {},
   "source": [
    "<div class=\"alert alert-block alert-success\">\n",
    "<h3>7-Green</h3>\n",
    "</div>"
   ]
  },
  {
   "cell_type": "code",
   "execution_count": 219,
   "id": "24f9344d-e21d-4398-9863-2c2b19b72036",
   "metadata": {},
   "outputs": [],
   "source": [
    "# Implies that a 7-black here\n",
    "s += point[(-1,2,-1)] == 7\n",
    "s += point_colour[(-1,2,-1)] == 0"
   ]
  },
  {
   "cell_type": "markdown",
   "id": "f36c9092-0096-4b5d-a669-97823bfc2b86",
   "metadata": {},
   "source": [
    "<div class=\"alert alert-info\">\n",
    "  <h3>121121-Blue</h3>\n",
    "</div>"
   ]
  },
  {
   "cell_type": "code",
   "execution_count": 220,
   "id": "717410ec-888c-4fb3-b6d4-d4c2aec9512c",
   "metadata": {
    "tags": []
   },
   "outputs": [],
   "source": [
    "# Implies that a 121121-green here\n",
    "s += point[(-1,-1, 2)] == 121121\n",
    "s += point_colour[(-1,-1, 2)] == 3"
   ]
  },
  {
   "cell_type": "code",
   "execution_count": 221,
   "id": "7c77f1b9-7069-4757-a4cf-955a90ad9880",
   "metadata": {},
   "outputs": [],
   "source": [
    "# Put the 13-black and 2 11s-black in the 121121-blue's views\n",
    "# 13-black\n",
    "s += point[(3, -1, -2)] == 13\n",
    "s += point_colour[(3, -1, -2)] == 0\n",
    "# 11-black\n",
    "s += point[(-3, -1, 4)] == 11\n",
    "s += point_colour[(-3, -1, 4)] == 0\n",
    "# 11-black\n",
    "s += point[(2, -4, 2)] == 11\n",
    "s += point_colour[(2, -4, 2)] == 0"
   ]
  },
  {
   "cell_type": "markdown",
   "id": "cede2d6b-1d14-4e24-9d5e-715edc9fa4c4",
   "metadata": {},
   "source": [
    "</div>\n",
    "<div class=\"alert alert-danger\" role=\"alert\">\n",
    "<h3>7-Red</h3>\n",
    "</div>"
   ]
  },
  {
   "cell_type": "code",
   "execution_count": 222,
   "id": "e72ba064-40c7-454b-a642-8eef8a5f0fb8",
   "metadata": {},
   "outputs": [],
   "source": [
    "# Forces a 7-blue here\n",
    "s += point[(3, -2, -1)] == 7\n",
    "s += point_colour[(3, -2, -1)] == 1"
   ]
  },
  {
   "cell_type": "markdown",
   "id": "d5858947-c063-40d6-8d43-f30f07c8ead2",
   "metadata": {},
   "source": [
    "</div>\n",
    "<div class=\"alert alert-danger\" role=\"alert\">\n",
    "<h3>854-Red</h3>\n",
    "</div>"
   ]
  },
  {
   "cell_type": "code",
   "execution_count": 223,
   "id": "929cb14b-7289-406d-b885-7cc882c551c9",
   "metadata": {},
   "outputs": [],
   "source": [
    "# Forces a 847-blue here\n",
    "s += point[(4, -3, -1)] == 847\n",
    "s += point_colour[(4, -3, -1)] == 1"
   ]
  },
  {
   "cell_type": "markdown",
   "id": "ef91ba77-c2f8-463a-aa49-0b4420b3c1cf",
   "metadata": {},
   "source": [
    "<div class=\"alert alert-info\">\n",
    "  <h3>7-Blue</h3>\n",
    "</div>"
   ]
  },
  {
   "cell_type": "code",
   "execution_count": 224,
   "id": "3289d271-5d5c-4f33-8087-deb6ccf5713c",
   "metadata": {},
   "outputs": [],
   "source": [
    "# Implies a 7-green here\n",
    "s += point[(-1, -2, 3)] == 7\n",
    "s += point_colour[(-1, -2, 3)] == 3"
   ]
  },
  {
   "cell_type": "markdown",
   "id": "f58485d0-adac-4caf-861a-5b01ebada449",
   "metadata": {},
   "source": [
    "<div class=\"alert alert-info\">\n",
    "  <h3>847-Blue</h3>\n",
    "</div>"
   ]
  },
  {
   "cell_type": "code",
   "execution_count": 225,
   "id": "b8a41d69-e6c0-4e35-ae9c-fd42a6dc1d8b",
   "metadata": {},
   "outputs": [],
   "source": [
    "# Implies a 847-green here\n",
    "s += point[(-1, -3, 4)] == 847\n",
    "s += point_colour[(-1, -3, 4)] == 3"
   ]
  },
  {
   "cell_type": "markdown",
   "id": "0e130ba6-fcc5-4cd4-b5f2-74b15a241aef",
   "metadata": {},
   "source": [
    "</div>\n",
    "<div class=\"alert alert-danger\" role=\"alert\">\n",
    "<h3>3997-Red</h3>\n",
    "</div>"
   ]
  },
  {
   "cell_type": "code",
   "execution_count": 226,
   "id": "174144a5-552a-481b-b9cf-96481f9fbe99",
   "metadata": {},
   "outputs": [],
   "source": [
    "# Put a 3059-blue in its view\n",
    "s += point[(2, 2, -4)] == 3059\n",
    "s += point_colour[(2, 2, -4)] == 1"
   ]
  },
  {
   "cell_type": "code",
   "execution_count": 227,
   "id": "49bb7bdc-79b7-48db-8ed9-ab1fe770bd53",
   "metadata": {},
   "outputs": [],
   "source": [
    "# Put a 91-blue in its view\n",
    "s += point[(1, 3, -4)] == 91\n",
    "s += point_colour[(1, 3, -4)] == 1"
   ]
  },
  {
   "cell_type": "markdown",
   "id": "92204d00-22d4-41f3-a16e-e5bfd50e1335",
   "metadata": {},
   "source": [
    "<div class=\"alert alert-info\">\n",
    "  <h3>91-Blue</h3>\n",
    "</div>"
   ]
  },
  {
   "cell_type": "code",
   "execution_count": 228,
   "id": "475d2e16-a7a3-4bc2-90e4-6ee32cc2a915",
   "metadata": {},
   "outputs": [],
   "source": [
    "# Force a 91-green here\n",
    "s += point[(-1, 3, -2)] == 91\n",
    "s += point_colour[(-1, 3, -2)] == 3"
   ]
  },
  {
   "cell_type": "markdown",
   "id": "3fe212e4-1047-432f-bead-c21383efcdda",
   "metadata": {},
   "source": [
    "### An empty title"
   ]
  },
  {
   "cell_type": "code",
   "execution_count": 229,
   "id": "7a39cdc1-da1f-47d8-bf77-aa92c50ad838",
   "metadata": {},
   "outputs": [],
   "source": [
    "s += point[(-3, 4, -1)] == 0\n",
    "s += point_colour[(-3, 4, -1)] == 4"
   ]
  },
  {
   "cell_type": "markdown",
   "id": "ee61b4c4-0e0c-4005-b795-2cc5ffbd7c21",
   "metadata": {},
   "source": [
    "### Black cells"
   ]
  },
  {
   "cell_type": "code",
   "execution_count": 230,
   "id": "a08add91-2da9-4284-af93-4e127b6f191d",
   "metadata": {},
   "outputs": [],
   "source": [
    "# limit blacks to the factors of the blue/green cells\n",
    "for i,j,k in point.keys():  \n",
    "    s+= Implies(point_colour[(i,j,k)] == 0,Or([point[(i,j,k)] == n for n in [7,11,13,19,23]])) "
   ]
  },
  {
   "cell_type": "markdown",
   "id": "0904adfe-aae4-44ab-8a40-2a575a95b0c0",
   "metadata": {},
   "source": [
    "## Fixed points"
   ]
  },
  {
   "cell_type": "code",
   "execution_count": 231,
   "id": "48133637-7481-468a-9d51-b9d82c37b1f7",
   "metadata": {},
   "outputs": [],
   "source": [
    "# Fixed points    \n",
    "# 7-green: (-1, 4, -3)\n",
    "s += point[(-1,4,-3)] == 7\n",
    "s += point_colour[(-1,4,-3)] == 3\n",
    "\n",
    "# 0-red: (-2, 4, -2)\n",
    "s += point[(-2,4,-2)] == 0\n",
    "s += point_colour[(-2,4,-2)] == 2\n",
    "\n",
    "# 3997-red: (4, 0, -4)\n",
    "s += point[(4,0,-4)] == 3997\n",
    "s += point_colour[(4,0,-4)] == 2\n",
    "\n",
    "# 3059-blue: (1, 2, -3)\n",
    "s += point[(1,2,-3)] == 3059\n",
    "s += point_colour[(1,2,-3)] == 1\n",
    "\n",
    "# 854-red: (4, -2, -2)\n",
    "s += point[(4,-2,-2)] == 854\n",
    "s += point_colour[(4,-2,-2)] == 2\n",
    "\n",
    "# 121121-blue: (2, -1, -1)\n",
    "s += point[(2,-1,-1)] == 121121\n",
    "s += point_colour[(2,-1,-1)] == 1\n",
    "\n",
    "# 847-green: (-4, 2, 2)\n",
    "s += point[(-4,2,2)] == 847\n",
    "s += point_colour[(-4,2,2)] == 3\n",
    "\n",
    "# 0-red: (-3, 0, 3)\n",
    "s += point[(-3,0,3)] == 0\n",
    "s += point_colour[(-3,0,3)] == 2\n",
    "\n",
    "# 7-red: (-2, -2, 4)\n",
    "s += point[(-2,-2,4)] == 7\n",
    "s += point_colour[(-2,-2,4)] == 2\n",
    "\n",
    "# 11-black: (1, -3, 2)\n",
    "s += point[(1,-3,2)] == 11\n",
    "s += point_colour[(1,-3,2)] == 0\n",
    "\n",
    "# 7-red: (3, -4, 1)\n",
    "s += point[(3,-4,1)] == 7\n",
    "s += point_colour[(3,-4,1)] == 2 \n"
   ]
  },
  {
   "cell_type": "markdown",
   "id": "447616f0-fabb-4078-ade1-7b978a42c496",
   "metadata": {},
   "source": [
    "### Put the constraints"
   ]
  },
  {
   "cell_type": "code",
   "execution_count": 232,
   "id": "69d175c1-abf5-4639-b66d-1e2ca1672768",
   "metadata": {},
   "outputs": [],
   "source": [
    "# constraints\n",
    "for i,j,k in point.keys(): \n",
    "    s+= Implies(point_colour[(i,j,k)] == 0,  # black numbers = number of red numbers\n",
    "               point[(i,j,k)] == Sum(                 \n",
    "                   [If(point_colour[(x,y,z)] == 2,1,0) for x,y,z in point.keys() if (i==x or j==y or k==z) & ((i,j,k) != (x,y,z)) ])) \n",
    "  \n",
    "    \n",
    "    s+=  Implies(point_colour[(i,j,k)] == 1,  # blue number = max of green numbers \n",
    "        Or(point[(i,j,k)] ==0, *[And(point[(i,j,k)] == point[(x,y,z)],point_colour[(x,y,z)] == 3) for x,y,z in point.keys() if (i==x or j==y or k==z) & ((i,j,k) != (x,y,z))]))\n",
    "    \n",
    "    s+=  [Implies(And(point_colour[(x,y,z)] == 3, point_colour[(i,j,k)] ==1) ,point[(i,j,k)] >= point[(x,y,z)]) for x,y,z in point.keys() if (i==x or j==y or k==z) & ((i,j,k) != (x,y,z))]\n",
    "\n",
    "    \n",
    "    s+= Implies(point_colour[(i,j,k)] == 2, # red numbers = sum of blue numbers \n",
    "               point[(i,j,k)] == Sum(                 \n",
    "                   [If(point_colour[(x,y,z)] == 1,point[(x,y,z)],0) for x,y,z in point.keys() if (i==x or j==y or k==z) & ((i,j,k) != (x,y,z)) ])\n",
    "               )\n",
    "    \n",
    "    s+= Implies(point_colour[(i,j,k)] == 3, #green numbers = product of black numbers\n",
    "               point[(i,j,k)] == Product(                 \n",
    "                   [If(point_colour[(x,y,z)] == 0,point[(x,y,z)],1) for x,y,z in point.keys() if (i==x or j==y or k==z) & ((i,j,k) != (x,y,z)) ])\n",
    "               )"
   ]
  },
  {
   "cell_type": "markdown",
   "id": "eab751ef-c6ec-426b-b7d7-0923085bcf1c",
   "metadata": {},
   "source": [
    "## Solve and print the result"
   ]
  },
  {
   "cell_type": "code",
   "execution_count": 234,
   "id": "6ba91980-9b4e-482b-a1d3-0989369e089a",
   "metadata": {},
   "outputs": [
    {
     "name": "stdout",
     "output_type": "stream",
     "text": [
      "Solved in 40.4596 seconds\n",
      "Sum is: 256,391\n"
     ]
    },
    {
     "data": {
      "image/png": "[encoded data removed]",
      "text/plain": [
       "<Figure size 1000x1000 with 1 Axes>"
      ]
     },
     "metadata": {},
     "output_type": "display_data"
    }
   ],
   "source": [
    "start = time.time()\n",
    "if s.check() == sat:\n",
    "    m = s.model()\n",
    "    coord= [x for x in point.keys()]    \n",
    "    color = [cols[m.evaluate(point_colour[x]).as_long()] for x in point_colour.keys()]\n",
    "    labels = [m.evaluate(point[x]).as_long() for x in point.keys()] \n",
    "    answer = np.sum([m.evaluate(point[(i,j,k)]).as_long() for (i,j,k) in point.keys() if i==0])\n",
    "    stop = time.time()\n",
    "    print(\"Solved in {:.4f} seconds\".format(stop-start))\n",
    "    print(\"Sum is: {:,.0f}\".format(answer))\n",
    "    hex_print(coord,color,labels)\n",
    "\n",
    "else:\n",
    "    print(\"Failed\")"
   ]
  },
  {
   "cell_type": "markdown",
   "id": "c75e0642-bbaf-424e-8ea9-7c646bfce1b3",
   "metadata": {},
   "source": [
    "<div class=\"alert alert-info\">\n",
    "  <h1>Public Solution</h1>\n",
    "</div>"
   ]
  },
  {
   "cell_type": "markdown",
   "id": "178fd8f5-9c01-489f-802a-845562b09ab8",
   "metadata": {},
   "source": [
    "<img src=\"https://www.janestreet.com/puzzles/hexagony_ans.png\" width=720 height=50 />\n",
    "\n",
    "The BEST SOLUTION was publised at https://www.janestreet.com/puzzles/hex-agony-solution/"
   ]
  },
  {
   "cell_type": "code",
   "execution_count": null,
   "id": "3dd5f315-096c-4b08-9a9a-fcf1939f8c23",
   "metadata": {},
   "outputs": [],
   "source": []
  }
 ],
 "metadata": {
  "kernelspec": {
   "display_name": "Python 3 (ipykernel)",
   "language": "python",
   "name": "python3"
  },
  "language_info": {
   "codemirror_mode": {
    "name": "ipython",
    "version": 3
   },
   "file_extension": ".py",
   "mimetype": "text/x-python",
   "name": "python",
   "nbconvert_exporter": "python",
   "pygments_lexer": "ipython3",
   "version": "3.10.9"
  }
 },
 "nbformat": 4,
 "nbformat_minor": 5
}
