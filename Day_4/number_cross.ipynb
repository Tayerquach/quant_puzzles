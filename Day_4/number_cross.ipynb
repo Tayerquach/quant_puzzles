{
 "cells": [
  {
   "cell_type": "markdown",
   "id": "b406f312-6fa3-4588-aafe-f119cffb525b",
   "metadata": {},
   "source": [
    "<div class=\"alert alert-block alert-success\">\n",
    "<h1>Number Cross</h1>\n",
    "<h4>AUGUST 2014: PUZZLE</h4>\n",
    "</div>"
   ]
  },
  {
   "cell_type": "markdown",
   "id": "f1b194cf-5b54-47bd-a96e-9df04700b74e",
   "metadata": {},
   "source": [
    "<img src=\"https://www.janestreet.com/puzzles/number_crossword_with_clues.png\" width=720 height=35 />\n",
    "\n",
    "The puzzle was publised at https://www.janestreet.com/puzzles/number-cross-index/\n",
    "\n",
    "Place the digits 1 through 9 (no zeros) in the crossword grid below so that all of the clues are satisfied. No digit is repeated in any one grid entry (e.g. 1-across is a grid entry), and no grid entry is used more than once within the puzzle.\n",
    "\n",
    "For your answer, submit the sum of the 8 5-digit grid entries in the completed grid (e.g. 4-down, 18-across, etc.)"
   ]
  },
  {
   "cell_type": "markdown",
   "id": "1eaa62e5-ef4a-4a7e-a6ab-dccdcd157dbd",
   "metadata": {},
   "source": [
    "<div class=\"alert alert-block alert-warning\">\n",
    "    <h1>Break down the problem</h1>\n",
    "</div>"
   ]
  },
  {
   "cell_type": "markdown",
   "id": "a9788437-5c4b-4fa5-9d5c-a40bbab21c55",
   "metadata": {},
   "source": [
    "In this puzzle, you are given a crossword grid with clues. The grid contains 11 rows and 11 columns, and you need to:\n",
    "\n",
    "**Requirements**\n",
    "\n",
    "* Place the digits 1 through 9 (without using any zeros) into the grid so that all of the provided clues are satisfied.\n",
    "\n",
    "* Fill in the grid entries with the appropriate digits while ensuring that: \n",
    "    * No digit is repeated within any single grid entry (e.g., 322 cannot be the answer because there are two number 2s). \n",
    "    * No grid entry is used more than once within the puzzle (e.g., there could not be two numbers 325 appearing in the puzzle).\n",
    "\n",
    "**Submission**\n",
    "\n",
    "Once you've successfully filled in the grid and satisfied all the clues, find and sum the **5-digit numbers** formed by the rows, columns (e.g. 4-down, 18-across, etc.) and submit your answer."
   ]
  },
  {
   "cell_type": "markdown",
   "id": "020b57d3-2616-41b1-ba8d-6157ed8378a8",
   "metadata": {},
   "source": [
    "<div class=\"alert alert-info\">\n",
    "  <h1>Solution</h1>\n",
    "</div>"
   ]
  },
  {
   "cell_type": "code",
   "execution_count": 42,
   "id": "5fdf3cc6-cc0b-40ba-a4e9-2e4aa934578c",
   "metadata": {},
   "outputs": [],
   "source": [
    "import numpy as np\n",
    "import time\n",
    "import itertools\n",
    "import seaborn as sns\n",
    "import matplotlib.pyplot as plt\n",
    "from IPython.display import Markdown\n",
    "from z3 import *"
   ]
  },
  {
   "cell_type": "markdown",
   "id": "a6c6650c-4a39-44fd-808b-7057cf92f28a",
   "metadata": {},
   "source": [
    "## Create a 11x11 grid as the question"
   ]
  },
  {
   "cell_type": "code",
   "execution_count": 43,
   "id": "8de4e413-aced-4752-b646-0561994ba379",
   "metadata": {},
   "outputs": [],
   "source": [
    "# The filled cell will be 0, while the blank cell will be 1\n",
    "grid = np.array([[0, 0, 0, 1, 0, 0, 0, 1, 0, 0, 0],\n",
    "                 [0, 0, 0, 1, 0, 0, 0, 1, 0, 0, 0],\n",
    "                 [0, 0, 0, 1, 0, 0, 0, 0, 0, 0, 0],\n",
    "                 [1, 1, 0, 0, 0, 0, 0, 0, 1, 1, 1],\n",
    "                 [0, 0, 0, 0, 0, 1, 0, 0, 0, 0, 0],\n",
    "                 [0, 0, 0, 0, 1, 1, 1, 0, 0, 0, 0],\n",
    "                 [0, 0, 0, 0, 0, 1, 0, 0, 0, 0, 0],\n",
    "                 [1, 1, 1, 0, 0, 0, 0, 0, 0, 1, 1],\n",
    "                 [0, 0, 0, 0, 0, 0, 0, 1, 0, 0, 0],\n",
    "                 [0, 0, 0, 1, 0, 0, 0, 1, 0, 0, 0],\n",
    "                 [0, 0, 0, 1, 0, 0, 0, 1, 0, 0, 0]\n",
    "                ],dtype=int)"
   ]
  },
  {
   "cell_type": "markdown",
   "id": "52c1a804-6b46-4bf9-bd38-1bc0d86d8814",
   "metadata": {},
   "source": [
    "## Set up utility functions"
   ]
  },
  {
   "cell_type": "code",
   "execution_count": 44,
   "id": "5d4adaf0-558c-432b-b227-4c6ba0ce6f6b",
   "metadata": {},
   "outputs": [],
   "source": [
    "# Utility functions\n",
    "def mult(x):\n",
    "    \"\"\"\n",
    "    Create the digit number for the grid entry\n",
    "    \n",
    "    Parameters:\n",
    "    x: an array of variables\n",
    "    \n",
    "    Return: a digit (e.g. 3,2,5 => 325)\n",
    "    \"\"\"\n",
    "    n=len(x)\n",
    "    return Sum([x[i] *10**((n-1)-i)  for i in range(n)]) \n",
    "\n",
    "def sum_dig(x):\n",
    "    \"\"\"\n",
    "    Sum all digits in the grid entry\n",
    "    \n",
    "    Parameters:\n",
    "    x: an array of digits\n",
    "    \n",
    "    Return: a sum of all digits\n",
    "    \"\"\"\n",
    "    return Sum([i for i in x])\n",
    "\n",
    "def make_across(x,y,n):\n",
    "    \"\"\"\n",
    "    Create the variables for the grid entry\n",
    "    \n",
    "    Parameters:\n",
    "    x: the rows' positions.\n",
    "    y: the columns' positions.\n",
    "    n: the number of digit needs to be entered.\n",
    "    \n",
    "    Return: an array contain variables for a grid entry.\n",
    "    \"\"\"\n",
    "    \n",
    "    return [X[x][y+i] for i in range(n)]\n",
    "\n",
    "def make_down(x,y,n):\n",
    "    \"\"\"\n",
    "    Create the variables for the grid entry\n",
    "    \n",
    "    Parameters:\n",
    "    x: the rows' positions.\n",
    "    y: the columns' positions.\n",
    "    n: the number of digit needs to be entered.\n",
    "    \n",
    "    Return: an array contain variables for a grid entry.\n",
    "    \"\"\"\n",
    "    return [X[x+i][y] for i in range(n)]"
   ]
  },
  {
   "cell_type": "markdown",
   "id": "63c8e376-01a1-4a63-8a6b-be889537f3ac",
   "metadata": {},
   "source": [
    "## Set up solver and matrix"
   ]
  },
  {
   "cell_type": "code",
   "execution_count": 45,
   "id": "4a0d83eb-3cb2-4aa7-bf29-a16f5f371cad",
   "metadata": {},
   "outputs": [],
   "source": [
    "# Setup a 11x11 matrix of integer variables and solver \n",
    "X = np.array(IntVector(\"x\",11*11),dtype=object).reshape((11,11))\n",
    "s = Tactic(\"pqffd\").solver()"
   ]
  },
  {
   "cell_type": "markdown",
   "id": "a529f7f3-b712-4a90-9ebc-91351e6f80f3",
   "metadata": {},
   "source": [
    "## Cell conditions"
   ]
  },
  {
   "cell_type": "code",
   "execution_count": 46,
   "id": "e0693e5f-6acc-45ac-a122-85c4da49132c",
   "metadata": {},
   "outputs": [],
   "source": [
    "# each non-black cell contains a value in {1, ..., 9} black cells = 0\n",
    "s += [And(e>0,e<=9) if grid[i,j] !=1 else e==0 for (i,j),e in np.ndenumerate(X)]"
   ]
  },
  {
   "cell_type": "markdown",
   "id": "066bcce2-8228-42b7-8620-df7b7b86818b",
   "metadata": {},
   "source": [
    "## Set up the clues"
   ]
  },
  {
   "cell_type": "code",
   "execution_count": 47,
   "id": "17d0f57e-77ef-4986-8c94-74e02a963596",
   "metadata": {},
   "outputs": [],
   "source": [
    "across = {}\n",
    "across[1]  = make_across(0,0,3)\n",
    "across[4]  = make_across(0,4,3)\n",
    "across[7]  = make_across(0,8,3)\n",
    "across[10] = make_across(1,0,3)\n",
    "across[11] = make_across(1,4,3)\n",
    "across[12] = make_across(1,8,3)\n",
    "across[13] = make_across(2,0,3)\n",
    "across[14] = make_across(2,4,7)\n",
    "across[16] = make_across(3,2,6)\n",
    "across[18] = make_across(4,0,5)\n",
    "across[20] = make_across(4,6,5)\n",
    "across[24] = make_across(5,0,4)\n",
    "across[25] = make_across(5,7,4)\n",
    "across[26] = make_across(6,0,5)\n",
    "across[28] = make_across(6,6,5)\n",
    "across[29] = make_across(7,3,6)\n",
    "across[31] = make_across(8,0,7)\n",
    "across[34] = make_across(8,8,3)\n",
    "across[37] = make_across(9,0,3)\n",
    "across[38] = make_across(9,4,3)\n",
    "across[39] = make_across(9,8,3)\n",
    "across[40] = make_across(10,0,3)\n",
    "across[41] = make_across(10,4,3)\n",
    "across[42] = make_across(10,8,3)\n",
    "\n",
    "down = {}\n",
    "down[1] = make_down(0,0,3)\n",
    "down[2] = make_down(0,1,3)\n",
    "down[3] = make_down(0,2,7)\n",
    "down[4] = make_down(0,4,5)\n",
    "down[5] = make_down(0,5,4)\n",
    "down[6] = make_down(0,6,5)\n",
    "down[7] = make_down(0,8,3)\n",
    "down[8] = make_down(0,9,3)\n",
    "down[9] = make_down(0,10,3)\n",
    "down[15] = make_down(2,7,6)\n",
    "down[17] = make_down(3,3,6)\n",
    "down[18] = make_down(4,0,3)\n",
    "down[19] = make_down(4,1,3)\n",
    "down[21] = make_down(4,8,7)\n",
    "down[22] = make_down(4,9,3)\n",
    "down[23] = make_down(4,10,3)\n",
    "down[27] = make_down(6,4,5)\n",
    "down[28] = make_down(6,6,5)\n",
    "down[30] = make_down(7,5,4)\n",
    "down[31] = make_down(8,0,3)\n",
    "down[32] = make_down(8,1,3)\n",
    "down[33] = make_down(8,2,3)\n",
    "down[35] = make_down(8,9,3)\n",
    "down[36] = make_down(8,10,3)\n",
    "\n",
    "clues =[v for k,v in across.items()]+[v for k,v in down.items()]"
   ]
  },
  {
   "cell_type": "markdown",
   "id": "79870942-b2d8-4683-ad64-082de6b4fc5f",
   "metadata": {},
   "source": [
    "## No grid entry is used more than once within the puzzle"
   ]
  },
  {
   "cell_type": "code",
   "execution_count": 48,
   "id": "92334775-47b5-446c-854a-6b1450f82f2c",
   "metadata": {},
   "outputs": [],
   "source": [
    "# distinct clues\n",
    "s += Distinct([mult(i) for i in clues])"
   ]
  },
  {
   "cell_type": "markdown",
   "id": "d8f3f1cb-d02f-432d-9872-edc7a28b6083",
   "metadata": {},
   "source": [
    "## No digit is repeated within any single grid entry"
   ]
  },
  {
   "cell_type": "code",
   "execution_count": 49,
   "id": "ef2fe80e-fe1e-477b-80c1-4057d0a7b0d1",
   "metadata": {},
   "outputs": [],
   "source": [
    "# distinct digit in clues\n",
    "s += [Distinct([x for x in i]) for i in clues]"
   ]
  },
  {
   "cell_type": "markdown",
   "id": "90a9b903-cb31-4197-b220-6019cf94c25c",
   "metadata": {},
   "source": [
    "## Solving the clues"
   ]
  },
  {
   "cell_type": "markdown",
   "id": "bee030b7-a6b3-4db6-88b2-69a8c1806476",
   "metadata": {},
   "source": [
    "### Squares\n",
    "Example: A square number"
   ]
  },
  {
   "cell_type": "code",
   "execution_count": 50,
   "id": "4981db91-5802-43a1-9b45-0dca701a2476",
   "metadata": {},
   "outputs": [],
   "source": [
    "#squares\n",
    "# All \"squares\" questions requires a 3-digit number, 10 - 32 will create numbers from 100 to 961\n",
    "square_numbers = [i**2 for i in range(10,32)] \n",
    "# \"Squares\" questions going across\n",
    "sq_across = [1,4,7,11,12]\n",
    "s += [Or([mult(across[i]) == x for x in square_numbers]) for i in sq_across]\n",
    "# \"Squares\" questions going down\n",
    "sq_down = [1,7,8,18,19,36]\n",
    "s += [Or([mult(down[i]) == x for x in square_numbers]) for i in sq_down]"
   ]
  },
  {
   "cell_type": "markdown",
   "id": "3da6a2b6-d3e3-4f01-b892-a4b9cee9e27c",
   "metadata": {},
   "source": [
    "### Primes\n",
    "Example: A prime number\n",
    "\n",
    "Definition: a prime number cannot be evenly divided by any other number except for 1 and itself."
   ]
  },
  {
   "cell_type": "code",
   "execution_count": 51,
   "id": "74beb4b2-02c2-43c8-9a61-1661a3834e3b",
   "metadata": {},
   "outputs": [],
   "source": [
    "import sympy"
   ]
  },
  {
   "cell_type": "markdown",
   "id": "25c2bdf0-a993-4e62-be97-142b87b820df",
   "metadata": {},
   "source": [
    "For more information, please go to [sympy](https://docs.sympy.org/latest/tutorials/intro-tutorial/intro.html#)"
   ]
  },
  {
   "cell_type": "code",
   "execution_count": 52,
   "id": "a7868559-ff8a-4c9f-b639-3bb569158eea",
   "metadata": {},
   "outputs": [],
   "source": [
    "#primes\n",
    "# All \"primes\" questions requires a 3-digit number.\n",
    "prime_numbers = [*sympy.primerange(100,1000)]\n",
    "# \"Primes\" questions going across\n",
    "pr_across = [39]\n",
    "s += [Or([mult(across[i]) == x*2 for x in prime_numbers]) for i in pr_across]\n",
    "# \"Primes\" questions going down\n",
    "pr_down = [9,22]\n",
    "s += [Or([mult(down[i]) == x for x in prime_numbers]) for i in pr_down]"
   ]
  },
  {
   "cell_type": "markdown",
   "id": "6801d14f-7466-4399-9b94-37371a211d7b",
   "metadata": {},
   "source": [
    "### Other questions going across"
   ]
  },
  {
   "cell_type": "code",
   "execution_count": 53,
   "id": "c2e50c52-bc5f-42b8-9141-f87385be9749",
   "metadata": {},
   "outputs": [],
   "source": [
    "# 10. Samller than 23-down\n",
    "s += mult(across[10]) < mult(down[23])\n",
    "# 13. The smallest number in this grid\n",
    "s += And([mult(across[13]) <= mult(i) for i in clues])\n",
    "# 14. Its digits sum to 42\n",
    "s += sum_dig(across[14]) ==42\n",
    "# 16. Divisible by 6\n",
    "s += mult(across[16]) % 6 ==0\n",
    "# 18. 37-across + 6-down\n",
    "s += mult(across[18]) == (mult(across[37])+mult(down[6]))\n",
    "# 20. Whether read forwards or backwards, the largest 5-digit number in this grid\n",
    "s += And([And(mult(across[20]) >= mult(i),mult(across[20][::-1]) > mult(i)) for i in clues if len(i) == 5])\n",
    "# 24. Has the same digits as 5-down\n",
    "s += Or([And([across[24][i]==j[i] for i in range(4)]) for j in itertools.permutations(down[5],4)])\n",
    "# 25. 42-across + 7-down\n",
    "s += mult(across[25]) == (mult(across[42])+mult(down[7]))\n",
    "# 26. Its digits sum to 26\n",
    "s += sum_dig(across[26]) == 26\n",
    "# 28. Its digits are ascending\n",
    "s += And([across[28][i-1] < across[28][i] for i in range(1,len(across[28]))])\n",
    "# 29. 4-across times 35-down\n",
    "s += mult(across[29]) == (mult(across[4])*mult(down[35]))\n",
    "# 31. Divisible by 3\n",
    "s += mult(across[31]) % 3 ==0\n",
    "# 34. Divisible by 3\n",
    "s += mult(across[34]) % 3 ==0\n",
    "# 37. Its digits are ascending\n",
    "s += And([across[37][i-1] < across[37][i] for i in range(1,len(across[37]))])\n",
    "# 38. 39-across minus 13-across\n",
    "s += mult(across[38]) == (mult(across[39])-mult(across[13]))\n",
    "# 40. Greater than 1-across\n",
    "s += mult(across[40]) > mult(across[1])\n",
    "# 41. Divisible by 25\n",
    "s += mult(across[41]) % 25 ==0\n",
    "# 42. An odd number\n",
    "s += mult(across[42]) %  2 ==1"
   ]
  },
  {
   "cell_type": "markdown",
   "id": "fa0529a7-f125-4bf1-b201-930acdc11a14",
   "metadata": {},
   "source": [
    "### Other questions going down"
   ]
  },
  {
   "cell_type": "code",
   "execution_count": 54,
   "id": "336f8930-82b6-40ef-805b-81175f1a59ce",
   "metadata": {},
   "outputs": [],
   "source": [
    "# 2. Divisible by 11\n",
    "s += mult(down[2]) % 11 ==0\n",
    "# 3. The largest number in this grid\n",
    "s += And([mult(down[3]) >= mult(i) for i in clues])\n",
    "# 4. Its digits sum to 16\n",
    "s += sum_dig(down[4]) == 16\n",
    "# 5. A multiple of 9-down\n",
    "s += Or([mult(down[5]) * i  == mult(down[9]) for i in range(1,10)]+[mult(down[5]) == mult(down[9])*i for i in range(1,10)])\n",
    "# 6. Its digits sum to 35\n",
    "s += sum_dig(down[6]) == 35\n",
    "# 15. Divisible by 11\n",
    "s += mult(down[15]) % 11 ==0\n",
    "# 17. Divisible by 9\n",
    "s += mult(down[17]) % 9 ==0\n",
    "# 21. Its digits sum to 41\n",
    "s += sum_dig(down[21]) == 41\n",
    "# 23. Larger than 32-down\n",
    "s += mult(down[23]) > mult(down[32])\n",
    "# 27. Half of 6-down\n",
    "s += mult(down[27])*2 == mult(down[6])\n",
    "# 28. Divisible by 125\n",
    "s += mult(down[28]) % 125 ==0\n",
    "# 30. Its digits are descending\n",
    "s += And([down[30][i-1] > down[30][i] for i in range(1,len(down[30]))])\n",
    "# 31. Its digits sum to 6\n",
    "s += sum_dig(down[31]) == 6\n",
    "# 32. A multiple of 31-down\n",
    "s += Or([mult(down[32]) *i  == mult(down[31]) for i in range(1,10)]+[mult(down[32]) == mult(down[31])*i for i in range(1,10)])\n",
    "# 33. A multiple of 31-down\n",
    "s += Or([mult(down[33]) *i  == mult(down[31]) for i in range(1,10)]+[mult(down[33]) == mult(down[31])*i for i in range(1,10)])\n",
    "# 35. An even number\n",
    "s += mult(down[35]) % 2 ==0"
   ]
  },
  {
   "cell_type": "markdown",
   "id": "d198c54a-8b62-4f25-94b0-112580f0864e",
   "metadata": {},
   "source": [
    "## Solve and print the result"
   ]
  },
  {
   "cell_type": "code",
   "execution_count": 56,
   "id": "3268d02c-951c-4a38-b3b0-6e76ce46d809",
   "metadata": {},
   "outputs": [
    {
     "data": {
      "text/markdown": [
       "**Solution 407,358 found after 3.3507 seconds**"
      ],
      "text/plain": [
       "<IPython.core.display.Markdown object>"
      ]
     },
     "metadata": {},
     "output_type": "display_data"
    },
    {
     "data": {
      "image/png": "[encoded data removed]",
      "text/plain": [
       "<Figure size 500x500 with 1 Axes>"
      ]
     },
     "metadata": {},
     "output_type": "display_data"
    }
   ],
   "source": [
    "# Solve and print \n",
    "start = time.time()\n",
    "if s.check() == sat:\n",
    "    m = s.model()\n",
    "    evalu = np.vectorize(lambda x:m.evaluate(x).as_long())\n",
    "    r = evalu(X)\n",
    "    display(Markdown(\"**Solution {:,.0f} found after {:.4f} seconds**\".format(sum([mult(evalu(x)) for x in clues if len(x) ==5]),time.time()-start)))\n",
    "    annot = r.astype('str')\n",
    "    annot[annot==\"0\"] =\"\"\n",
    "    fig,ax = plt.subplots(1,1,figsize=(5,5))\n",
    "    ax =sns.heatmap(grid,annot=annot,cbar=False,cmap=\"Greys\",fmt=\"\",linewidths=2,annot_kws={\"size\":14},linecolor='k')\n",
    "    ax.axis(\"off\")\n",
    "    plt.show()\n",
    "else:\n",
    "    print(\"Failed\") "
   ]
  },
  {
   "cell_type": "markdown",
   "id": "e5636f72-50f9-4bf9-8bbe-05f6bc611a9e",
   "metadata": {},
   "source": [
    "<div class=\"alert alert-info\">\n",
    "  <h1>Public Solution</h1>\n",
    "</div>"
   ]
  },
  {
   "cell_type": "markdown",
   "id": "6303de63-5c47-45c2-afce-5f975f5df10f",
   "metadata": {},
   "source": [
    "<img src=\"https://www.janestreet.com/puzzles/Aug14_Solution.png\" width=720 height=50 />\n",
    "\n",
    "The BEST SOLUTION was publised at https://www.janestreet.com/puzzles/number-cross-solution/"
   ]
  },
  {
   "cell_type": "code",
   "execution_count": null,
   "id": "95c497ff-2eda-4da0-8c99-d1174813dfa4",
   "metadata": {},
   "outputs": [],
   "source": []
  }
 ],
 "metadata": {
  "kernelspec": {
   "display_name": "Python 3 (ipykernel)",
   "language": "python",
   "name": "python3"
  },
  "language_info": {
   "codemirror_mode": {
    "name": "ipython",
    "version": 3
   },
   "file_extension": ".py",
   "mimetype": "text/x-python",
   "name": "python",
   "nbconvert_exporter": "python",
   "pygments_lexer": "ipython3",
   "version": "3.10.9"
  }
 },
 "nbformat": 4,
 "nbformat_minor": 5
}
