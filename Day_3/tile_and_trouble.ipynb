{
 "cells": [
  {
   "cell_type": "markdown",
   "id": "7d0560e3-ecaf-46e0-bf24-2ac734cd01e6",
   "metadata": {},
   "source": [
    "<div class=\"alert alert-block alert-success\">\n",
    "<h1>Tile and Trouble</h1>\n",
    "<h4>MAY 2014: PUZZLE</h4>\n",
    "</div>"
   ]
  },
  {
   "cell_type": "markdown",
   "id": "94e38f18-8ca9-4dc0-ab77-4241e0d49d8e",
   "metadata": {},
   "source": [
    "<img src=\"https://www.janestreet.com/puzzles/TileAndTrouble.png\" width=720 height=35 />\n",
    "\n",
    "The puzzle was publised at https://www.janestreet.com/puzzles/tile-and-trouble-index/\n",
    "\n",
    "Add square tiles to the 12-by-12 grid so that the total points in each row and each column matches the corresponding value outside the grid.\n",
    "\n",
    "* A tile can have any side length (e.g., 1-by-1, 2-by-2, 3-by-3, etc.)\n",
    "* Every cell within an n-by-n tile is worth n points.\n",
    "* Tiles may not overlap. Not every cell in the 12-by-12 grid needs to be inside one of the tiles.\n",
    "* For your answer, submit the product of the areas of each contiguous empty space in the solved grid (along with any other comments you want to provide)"
   ]
  },
  {
   "cell_type": "markdown",
   "id": "e25fb7f5-74d0-4bb7-bbd4-4504c3262bba",
   "metadata": {},
   "source": [
    "<div class=\"alert alert-block alert-warning\">\n",
    "    <h1>Break down the problem</h1>\n",
    "</div>"
   ]
  },
  {
   "cell_type": "markdown",
   "id": "47f17cc7-909e-4530-8b92-f8c6e96b631a",
   "metadata": {},
   "source": [
    "This puzzle involves adding square tiles to a 12x12 grid so that the total points in each row and each column match the given border values.\n",
    "In the example the total points:\n",
    "* In the first row is,\n",
    "1 + 1 + 2 + 2 + 1 + 1 = 8\n",
    "* In the first column is,\n",
    "1 + 2 + 2 + 1 + 3 + 3 + 3 = 15\n",
    "\n",
    "**Three important requirements**:\n",
    "\n",
    "* The tile can have different size such as 1-by-1, 2-by-2, 3-by-3, etc., and the values in each cell within a tile are the same.\n",
    "* Each cell within an n-by-n tile is worth n points.\n",
    "* Tiles cannot overlap. It means that not every cell in the 12-by-12 grid is found inside other tiles.\n",
    "\n",
    "**Submission**:\n",
    "\n",
    "Find the product of the areas of empty spaces. According to the instance, there are 5 empty spaces in the 12x12 grid. They are **3** 1x1 grids, a L-shaped tile (trominoes) = **4** 1x1 grid, and an 1x2 grid corresponding to **2** 1x1 grid. Each 1x1 grid will equal to 1 unit area. Thus, we obtained,\n",
    "4 * 2 * 1 * 1 * 1 = 8"
   ]
  },
  {
   "cell_type": "markdown",
   "id": "6f6674d3-fb63-4589-afd9-b65ff1e32b1f",
   "metadata": {},
   "source": [
    "## Implies in z3"
   ]
  },
  {
   "cell_type": "markdown",
   "id": "41dfd3b6-ce5d-4c2a-b233-4e3a14fcb9aa",
   "metadata": {},
   "source": [
    "**Implies** is a Boolean operator supported by z3 in Python. It requires two boolean expressions and returns a boolean expression that represents the logical implication of the two inputs. \n",
    "\n",
    "In formal logic, the implication (->) is a binary connective that produces a **False** value only if its first operand is True and its second operand is False. The truth table for implication is as follows:\n",
    "\n",
    "| A | B | A -> B |\n",
    "|---|---|--------|\n",
    "| 0 | 0 |   1    |\n",
    "| 0 | 1 |   1    |\n",
    "| 1 | 0 |   0    |\n",
    "| 1 | 1 |   1    |\n"
   ]
  },
  {
   "cell_type": "markdown",
   "id": "7543a978-429a-4dd3-962f-92832cbe65ae",
   "metadata": {},
   "source": [
    "In Z3, the \"implies\" operator is denoted by **Implies**. Here's how you can use it in Python with z3:"
   ]
  },
  {
   "cell_type": "code",
   "execution_count": 8,
   "id": "36d607a4-c413-42b8-b7e8-5b5d3f3ab266",
   "metadata": {},
   "outputs": [
    {
     "name": "stdout",
     "output_type": "stream",
     "text": [
      "All cases (A, B, Satisfiability):\n",
      "A = True, B = True, Satisfiability: Satisfiable\n",
      "A = True, B = False, Satisfiability: Unsatisfiable\n",
      "A = False, B = True, Satisfiability: Satisfiable\n",
      "A = False, B = False, Satisfiability: Satisfiable\n"
     ]
    }
   ],
   "source": [
    "from z3 import *\n",
    "\n",
    "# Create a Z3 solver instance\n",
    "solver = Solver()\n",
    "\n",
    "# Define boolean variables\n",
    "A = Bool('A')\n",
    "B = Bool('B')\n",
    "\n",
    "# Iterate through all possible combinations of A and B\n",
    "all_cases = []\n",
    "for a_val in [True, False]:\n",
    "    for b_val in [True, False]:\n",
    "        # Set the values for A and B\n",
    "        a_implies_b_formula = Implies(BoolVal(a_val), BoolVal(b_val))\n",
    "\n",
    "        # Add the implication to the solver\n",
    "        solver.push()\n",
    "        solver.add(a_implies_b_formula)\n",
    "\n",
    "        # Check if A implies B is satisfied\n",
    "        if solver.check() == sat:\n",
    "            model = solver.model()\n",
    "            all_cases.append((a_val, b_val, \"Satisfiable\"))\n",
    "        else:\n",
    "            all_cases.append((a_val, b_val, \"Unsatisfiable\"))\n",
    "\n",
    "        # Pop the added constraints\n",
    "        solver.pop()\n",
    "\n",
    "# Print all cases\n",
    "print(\"All cases (A, B, Satisfiability):\")\n",
    "for a_val, b_val, satisfiability in all_cases:\n",
    "    print(f\"A = {a_val}, B = {b_val}, Satisfiability: {satisfiability}\")"
   ]
  },
  {
   "cell_type": "markdown",
   "id": "6187d730-85fa-47a2-8043-05ddc204afa8",
   "metadata": {},
   "source": [
    "<div class=\"alert alert-info\">\n",
    "  <h1>Solution</h1>\n",
    "</div>"
   ]
  },
  {
   "cell_type": "code",
   "execution_count": 137,
   "id": "e6f5d880-8c85-4647-8416-35e802fcd04c",
   "metadata": {},
   "outputs": [],
   "source": [
    "import numpy as np\n",
    "import time\n",
    "import itertools\n",
    "import seaborn as sns\n",
    "import matplotlib.pyplot as plt\n",
    "from IPython.display import Markdown\n",
    "from z3 import *"
   ]
  },
  {
   "cell_type": "code",
   "execution_count": 145,
   "id": "6774a10b-0de9-4fc8-8467-f261ca1ae5a5",
   "metadata": {},
   "outputs": [],
   "source": [
    "# The numbers outside the rows.\n",
    "row_labels = [12,17,43,44,34,42,43,21,36,29,30,26]\n",
    "# The numbers outside the columns.\n",
    "col_labels = [30,35,45,43,41,28,25,29,25,38,18,20]"
   ]
  },
  {
   "cell_type": "code",
   "execution_count": 189,
   "id": "afa2e997-f34d-4df7-877c-e94bac082048",
   "metadata": {},
   "outputs": [],
   "source": [
    "size = 12\n",
    "nums = 6"
   ]
  },
  {
   "cell_type": "code",
   "execution_count": 190,
   "id": "7c1d4504-257a-40b1-a031-70ffb8584b68",
   "metadata": {},
   "outputs": [],
   "source": [
    "# Setup up a 12x12 matrix of integer variables and solver \n",
    "X = [[Int(\"s%d%d\" % (i+1,j+1)) for j in range (size)] for i in range (size)]\n",
    "s = Solver()"
   ]
  },
  {
   "cell_type": "code",
   "execution_count": 191,
   "id": "0cef2a3a-014e-45e3-9976-3bd714a9af33",
   "metadata": {},
   "outputs": [],
   "source": [
    "# each cell contains a value in {1, ..., 6} because the biggest outside number is 45 while 7x7 = 49 > 45\n",
    "s += [And(X[i][j]>=0,X[i][j]<=nums) for j in range (size) for i in range(size)]"
   ]
  },
  {
   "cell_type": "code",
   "execution_count": 192,
   "id": "558da2fb-30a9-413a-afae-117259ead11d",
   "metadata": {},
   "outputs": [],
   "source": [
    "for n in range(size):\n",
    "    s += Sum([X[n][j] for j  in range(size)]) == row_labels[n] #Sum values in the row to get the value equal to the corresponding given border value.\n",
    "    s += Sum([X[i][n] for i  in range(size)]) == col_labels[n] #Sum values in the column to get the value equal to the corresponding given border value."
   ]
  },
  {
   "cell_type": "code",
   "execution_count": 193,
   "id": "0ea72953-75a7-4692-afb0-403a66975893",
   "metadata": {},
   "outputs": [],
   "source": [
    "#Now let make a loop to slice the n-by-n tiles in 12x12 grid.\n",
    "for i,j in itertools.product(range(size),range(size)):\n",
    "      \n",
    "    # Slice the 2-by-2 tiles\n",
    "    # Along rows\n",
    "    if i == 1 :\n",
    "        s += [Implies(X[i-1][j] == n,X[i][j] == n) for n in range(nums) if n > 1]\n",
    "    elif i > 1 :   \n",
    "        s += [Implies(And(X[i-1][j] == n,X[i-2][j] != n),X[i][j] == n) for n in range(nums+1) if n > 1 ] \n",
    "    #Along columns\n",
    "    if j == 1 :\n",
    "        s += [Implies(X[i][j-1] == n,X[i][j] == n) for n in range(nums) if n > 1]\n",
    "    elif j > 1 :   \n",
    "        s += [Implies(And(X[i][j-1] == n,X[i][j-2] != n),X[i][j] == n) for n in range(nums+1) if n > 1 ]\n",
    "        \n",
    "\n",
    "    # Slice the 3-by-3 tiles\n",
    "    # Along rows\n",
    "    if i == 2:\n",
    "        s += [Implies(And(X[i-1][j] == n,X[i-2][j] == n),X[i][j] == n) for n in range(nums+1) if n > 2 ]    \n",
    "    elif i > 2 :   \n",
    "        s += [Implies(And(X[i-1][j] == n,X[i-2][j] == n,X[i-3][j] != n),X[i][j] == n) for n in range(nums+1) if n > 2 ] \n",
    "    #Along columns\n",
    "    if j == 2:\n",
    "        s += [Implies(And(X[i][j-1] == n,X[i][j-2] == n),X[i][j] == n) for n in range(nums+1) if n > 2 ]    \n",
    "    elif j > 2 :   \n",
    "        s += [Implies(And(X[i][j-1] == n,X[i][j-2] == n,X[i][j-3] != n),X[i][j] == n) for n in range(nums+1) if n > 2 ] \n",
    "        \n",
    "    # Slice the 4-by-4 tiles\n",
    "    # Along rows\n",
    "    if i == 3:\n",
    "        s += [Implies(And(X[i-1][j] == n,X[i-2][j] == n,X[i-3][j] == n),X[i][j] == n) for n in range(nums+1) if n > 3 ]    \n",
    "    elif i > 3 :   \n",
    "        s += [Implies(And(X[i-1][j] == n,X[i-2][j] == n,X[i-3][j] == n,X[i-4][j] != n),X[i][j] == n) for n in range(nums+1) if n > 3 ] \n",
    "    # Along columns\n",
    "    if j == 3:\n",
    "        s += [Implies(And(X[i][j-1] == n,X[i][j-2] == n,X[i][j-3] == n),X[i][j] == n) for n in range(nums+1) if n > 3 ]    \n",
    "    elif j > 3 :   \n",
    "        s += [Implies(And(X[i][j-1] == n,X[i][j-2] == n,X[i][j-3] == n, X[i][j-4] != n),X[i][j] == n) for n in range(nums+1) if n > 3 ]\n",
    "        \n",
    "        \n",
    "    # Slice the 5-by-5 tiles\n",
    "    # Along rows\n",
    "    if i == 4:\n",
    "        s += [Implies(And(X[i-1][j] == n,X[i-2][j] == n,X[i-3][j] == n,X[i-4][j] == n),X[i][j] == n) for n in range(nums+1) if n > 4 ]    \n",
    "    elif i > 4 :   \n",
    "        s += [Implies(And(X[i-1][j] == n,X[i-2][j] == n,X[i-3][j] == n,X[i-4][j] == n,X[i-5][j] != n),X[i][j] == n) for n in range(nums+1) if n > 4 ]  \n",
    "    # Along columns\n",
    "    if j == 4:\n",
    "        s += [Implies(And(X[i][j-1] == n,X[i][j-2] == n,X[i][j-3] == n,X[i][j-4] == n),X[i][j] == n) for n in range(nums+1) if n > 4 ]    \n",
    "    elif j > 4 :   \n",
    "        s += [Implies(And(X[i][j-1] == n,X[i][j-2] == n,X[i][j-3] == n,X[i][j-4] == n,X[i][j-5] != n),X[i][j] == n) for n in range(nums+1) if n > 4 ] \n",
    "        \n",
    "        \n",
    "    # Slice the 6-by-6 tiles\n",
    "    # Along rows\n",
    "    if i == 5:\n",
    "        s += [Implies(And(X[i-1][j] == n,X[i-2][j] == n,X[i-3][j] == n,X[i-4][j] == n,X[i-5][j] == n),X[i][j] == n) for n in range(nums+1) if n > 5 ]    \n",
    "    elif i > 5 :   \n",
    "        s += [Implies(And(X[i-1][j] == n,X[i-2][j] == n,X[i-3][j] == n,X[i-4][j] == n,X[i-5][j] == n,X[i-6][j] != n),X[i][j] == n) for n in range(nums+1) if n > 5 ]  \n",
    "    # Along columns\n",
    "    if j == 5:\n",
    "        s += [Implies(And(X[i][j-1] == n,X[i][j-2] == n ,X[i][j-3] == n,X[i][j-4] == n,X[i][j-5] == n),X[i][j] == n) for n in range(nums+1) if n > 5 ]    \n",
    "    elif j > 5 :   \n",
    "        s += [Implies(And(X[i][j-1] == n,X[i][j-2] == n,X[i][j-3] == n,X[i][j-4] == n, X[i][j-5] == n,X[i][j-6] != n),X[i][j] == n) for n in range(nums+1) if n > 5 ] "
   ]
  },
  {
   "cell_type": "code",
   "execution_count": 194,
   "id": "92c1d674-0aa3-4657-be12-5ea895928051",
   "metadata": {},
   "outputs": [
    {
     "name": "stdout",
     "output_type": "stream",
     "text": [
      "Solved in 1.7759819030761719 seconds\n"
     ]
    },
    {
     "data": {
      "image/png": "[encoded data removed]",
      "text/plain": [
       "<Figure size 500x500 with 1 Axes>"
      ]
     },
     "metadata": {},
     "output_type": "display_data"
    }
   ],
   "source": [
    "start = time.time()\n",
    "if s.check() == sat:\n",
    "    print(\"Solved in {} seconds\".format(time.time()-start))\n",
    "    m = s.model()\n",
    "    out = np.array([ [ m.evaluate(X[i][j]).as_long() for j in range(size) ] for i in range(size) ])\n",
    "    x = np.copy(out)\n",
    "    x = x.astype('int').astype('str')\n",
    "    x[x==\"0\"] = \"\"\n",
    "    fig,ax = plt.subplots(1,1,figsize=(5,5))    \n",
    "    ax =sns.heatmap(out,annot=x,cbar=False,center=3,cmap=\"tab20_r\",fmt=\"\",linewidths=1,linecolor=\"grey\",annot_kws={\"size\":14},\n",
    "                    xticklabels=col_labels, yticklabels=row_labels)\n",
    "    ax.tick_params(left=False, bottom=False,labelleft=False, labelright=True)\n",
    "    plt.xticks(rotation=0,fontsize =12)\n",
    "    plt.yticks(rotation=0,fontsize =12)\n",
    "    plt.tight_layout()\n",
    "    plt.show()   \n",
    "     \n",
    "else:\n",
    "    print(\"No solution in {} seconds\".format(time.time()-start))"
   ]
  },
  {
   "cell_type": "markdown",
   "id": "d3bd7d78-a98f-4a34-9c22-acf6ce140b3d",
   "metadata": {},
   "source": [
    "<div class=\"alert alert-info\">\n",
    "  <h1>Public Solution</h1>\n",
    "</div>"
   ]
  },
  {
   "cell_type": "code",
   "execution_count": null,
   "id": "1fe4d1a2-7f2a-4c82-9a71-e64de66dc6f4",
   "metadata": {},
   "outputs": [],
   "source": [
    "<img src=\"https://www.janestreet.com/puzzles/Feb14_Solution.png\" width=720 height=50 />\n",
    "\n",
    "The BEST SOLUTION was publised at https://www.janestreet.com/puzzles/hooks-solution/"
   ]
  }
 ],
 "metadata": {
  "kernelspec": {
   "display_name": "Python 3 (ipykernel)",
   "language": "python",
   "name": "python3"
  },
  "language_info": {
   "codemirror_mode": {
    "name": "ipython",
    "version": 3
   },
   "file_extension": ".py",
   "mimetype": "text/x-python",
   "name": "python",
   "nbconvert_exporter": "python",
   "pygments_lexer": "ipython3",
   "version": "3.10.9"
  }
 },
 "nbformat": 4,
 "nbformat_minor": 5
}
