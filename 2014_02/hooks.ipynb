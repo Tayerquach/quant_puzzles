{
 "cells": [
  {
   "cell_type": "markdown",
   "id": "9550a56e-824d-4427-99d0-f4f1cc037e48",
   "metadata": {},
   "source": [
    "<div class=\"alert alert-block alert-success\">\n",
    "<h1>Hooks</h1>\n",
    "<h4>FEBRUARY 2014: PUZZLE</h4>\n",
    "</div>"
   ]
  },
  {
   "cell_type": "markdown",
   "id": "de711b85-b68c-4c37-bfa9-ee7b363ba230",
   "metadata": {},
   "source": [
    "<img src=\"https://www.janestreet.com/puzzles/Feb14_Niedermaier.jpg\" width=720 height=40 />\n",
    "\n",
    "The puzzle was publised at https://www.janestreet.com/puzzles/hooks-index/\n",
    "\n",
    "In the grid below, enter nine 9's in the outermost hook, eight 8's in the next hook, then seen 7's, six 6's, and so on, down to the one 1 (already entered), so that the row and column match values given along the border.\n",
    "\n",
    "Once you've completed the puzzle, submit as your answer the sum of the values of the shaded squares (along with any other comments you'd like to provide)."
   ]
  },
  {
   "cell_type": "markdown",
   "id": "3152449d-fbfb-46ac-97d9-bb1257bdb9ea",
   "metadata": {},
   "source": [
    "<div class=\"alert alert-block alert-warning\">\n",
    "    <h1>Break down the problem</h1>\n",
    "</div>"
   ]
  },
  {
   "cell_type": "markdown",
   "id": "192f36eb-8262-49fb-9fa6-8f3e91ec5ad9",
   "metadata": {},
   "source": [
    "<img src=\"color_areas.png\" width=320 height=100 />"
   ]
  },
  {
   "cell_type": "markdown",
   "id": "a9aed808-b1b0-40b3-8d4e-92fed301f512",
   "metadata": {},
   "source": [
    "This is a grid-based puzzle where you have a NxN grid. What we need to do is to fill cells with a number in the outermost hook from 1 to 9 which is respectively to the colors: \n",
    "* Blue: 1\n",
    "* Orange: 2\n",
    "* Green: 3\n",
    "* Pink: 4\n",
    "* Brown: 5\n",
    "* Purple: 6\n",
    "* Grey: 7\n",
    "* Lime: 8\n",
    "* Cyan: 9\n",
    "\n",
    "And the number one 1 already entered in the upper left corner, corresponding to the blue color. The number is filled so that the sums of the rows and columns match the given border values. It means that it is not neccessary to fill all cells. \n",
    "\n",
    "In the submission, we need:\n",
    "* Complete the puzzle\n",
    "* Submit the sum of the values of the shaded squares."
   ]
  },
  {
   "cell_type": "markdown",
   "id": "83fbd5c6-70a1-4d01-a036-b233af77b8ad",
   "metadata": {},
   "source": [
    "<div class=\"alert alert-info\">\n",
    "  <h1>Solution</h1>\n",
    "</div>"
   ]
  },
  {
   "cell_type": "code",
   "execution_count": 16,
   "id": "4422568e-ab86-4e75-8333-5b36dd99c103",
   "metadata": {},
   "outputs": [],
   "source": [
    "import numpy as np\n",
    "import time\n",
    "import seaborn as sns\n",
    "import matplotlib.pyplot as plt\n",
    "from IPython.display import Markdown, display,HTML,Image\n",
    "from z3 import *"
   ]
  },
  {
   "cell_type": "markdown",
   "id": "c220a2ea-28a7-4e29-b210-62ab0b86eb76",
   "metadata": {},
   "source": [
    "### Tactic in Z3"
   ]
  },
  {
   "cell_type": "markdown",
   "id": "b1126c89-5b21-477b-bbb4-f82503bfd151",
   "metadata": {},
   "source": [
    "In the Z3 theorem prover, **Optimizer** and **Tactic** are both components used for solving and optimizing mathematical problems. However, they have different purposes and functionality.\n",
    "\n",
    "1. **Tactic**:\n",
    "\n",
    "* A tactic in Z3 is a high-level strategy or a set of rules that guide the search for a solution to a problem. It defines how the solver should approach solving a given problem.\n",
    "* A tactic is composed of a sequence of solver procedures, each of which tries to solve the problem in a particular way (e.g., using simplification, rewriting, or specific solver engines).\n",
    "* Tactic can be applied to a goal to attempt to solve or simplify it.\n",
    "\n",
    "2. **Optimizer**:\n",
    "* An optimizer in Z3 is used for optimizing mathematical expressions or finding optimal solutions to optimization problems (e.g., minimizing or maximizing a function subject to constraints).\n",
    "* The optimizer is used for numerical optimization, where the goal is to find the optimal values of variables that satisfy certain conditions to either maximize or minimize an objective function.\n",
    "* The Optimizer in Z3 allows you to specify optimization objectives and constraints, and it can search for optimal solutions using various optimization strategies.\n",
    "\n",
    "In summary, a Tactic is more general and focused on guiding the solving process and simplifying goals, while an Optimizer is specifically designed for numerical optimization problems, attempting to find optimal solutions for given optimization objectives and constraints. Tactics can be used as part of an optimization process to guide how the optimization is performed, but they serve different purposes in the context of Z3."
   ]
  },
  {
   "cell_type": "markdown",
   "id": "f8c7c00b-8e2c-4a87-ac5f-1503c1bdbf60",
   "metadata": {},
   "source": [
    "### QF_FD Logic"
   ]
  },
  {
   "cell_type": "markdown",
   "id": "6ce3a6f3-acca-4495-a3a2-303c3f536a97",
   "metadata": {},
   "source": [
    "A specialized logic QF_FD (stands for quantifier-free formulas over finite domains.) and associated incremental solver (that supports push/pop). The QF_FD domain comprises of bit-vectors, enumeration data-types used only in equalities, and bounded integers: Integers used in QF_FD problems have to be constrained by a finite bound."
   ]
  },
  {
   "cell_type": "markdown",
   "id": "066175f3-f393-4120-8e48-2abc4c9c0b9c",
   "metadata": {},
   "source": [
    "Here's a simple example of using Z3 with a tactic for solving a quantifier-free formula in the **QF_FD logic**:"
   ]
  },
  {
   "cell_type": "code",
   "execution_count": 62,
   "id": "4c3a0517-f9d7-4e13-b87a-a9acaa4d2b22",
   "metadata": {},
   "outputs": [
    {
     "name": "stdout",
     "output_type": "stream",
     "text": [
      "Satisfiable\n",
      "Model:\n",
      "x = 7\n",
      "y = 8\n"
     ]
    }
   ],
   "source": [
    "# Create Z3 solver\n",
    "# Use a tactic for solving QF_FD formulas\n",
    "solver = Tactic('qffd').solver()\n",
    "\n",
    "# Define variables\n",
    "x = Int('x')\n",
    "y = Int('y')\n",
    "\n",
    "# Create a quantifier-free formula over finite domains (QF_FD)\n",
    "formula = And(x > 0, y > 0, x < 10, y < 10, x + y == 15)\n",
    "\n",
    "# Add the formula to the solver\n",
    "solver.add(formula)\n",
    "\n",
    "if solver.check() == sat:\n",
    "    print(\"Satisfiable\")\n",
    "    print(\"Model:\")\n",
    "    model = solver.model()\n",
    "    print(\"x =\", model[x])\n",
    "    print(\"y =\", model[y])\n",
    "elif solver.check() == unsat:\n",
    "    print(\"Unsatisfiable\")\n",
    "else:\n",
    "    print(\"Unknown\")"
   ]
  },
  {
   "cell_type": "markdown",
   "id": "09b2b37e-4c81-443e-b83f-e4cb53b2d317",
   "metadata": {},
   "source": [
    "### Brainstorm"
   ]
  },
  {
   "cell_type": "code",
   "execution_count": 123,
   "id": "b5ea36bd-8813-4ad9-80f7-72297dcc17e2",
   "metadata": {},
   "outputs": [],
   "source": [
    "# Setup up a 9 x 9 grid according to the requirement\n",
    "grid = np.zeros((9,9)) # all values are 0\n",
    "for (i,j),e in np.ndenumerate(grid): #increasing the outermost values up 1 unit.\n",
    "    grid[i,j] = max(i,j)+1"
   ]
  },
  {
   "cell_type": "code",
   "execution_count": 124,
   "id": "38d01f22-c8d5-4b36-ad2b-d33a65668cb4",
   "metadata": {},
   "outputs": [
    {
     "data": {
      "text/plain": [
       "array([[1., 2., 3., 4., 5., 6., 7., 8., 9.],\n",
       "       [2., 2., 3., 4., 5., 6., 7., 8., 9.],\n",
       "       [3., 3., 3., 4., 5., 6., 7., 8., 9.],\n",
       "       [4., 4., 4., 4., 5., 6., 7., 8., 9.],\n",
       "       [5., 5., 5., 5., 5., 6., 7., 8., 9.],\n",
       "       [6., 6., 6., 6., 6., 6., 7., 8., 9.],\n",
       "       [7., 7., 7., 7., 7., 7., 7., 8., 9.],\n",
       "       [8., 8., 8., 8., 8., 8., 8., 8., 9.],\n",
       "       [9., 9., 9., 9., 9., 9., 9., 9., 9.]])"
      ]
     },
     "execution_count": 124,
     "metadata": {},
     "output_type": "execute_result"
    }
   ],
   "source": [
    "grid"
   ]
  },
  {
   "cell_type": "code",
   "execution_count": 125,
   "id": "9d696bc9-88a3-4245-b414-ce3463abf65f",
   "metadata": {},
   "outputs": [],
   "source": [
    "# The numbers outside the rows.\n",
    "row_labels = [31, 19, 45, 16, 5, 47, 28, 49, 45]\n",
    "# The numbers outside the columns.\n",
    "col_labels = [26, 42, 11, 22, 42, 36, 29, 32, 45]"
   ]
  },
  {
   "cell_type": "code",
   "execution_count": 130,
   "id": "18fc02ed-fdda-4c90-ab7c-25377444c75e",
   "metadata": {},
   "outputs": [],
   "source": [
    "# Setup up a 9x9 matrix of integer variables and solver \n",
    "X = np.array(IntVector(\"x\",9*9),dtype=object).reshape((9,9))\n",
    "s = Tactic('qffd').solver()"
   ]
  },
  {
   "cell_type": "code",
   "execution_count": 134,
   "id": "f4cd94fa-6c20-4777-980e-481cfa087629",
   "metadata": {},
   "outputs": [],
   "source": [
    "# constraints\n",
    "s += [Or(x==0,x==1) for _,x in np.ndenumerate(X)] # Because we can leave the cell blank (0) or put a number (1)\n",
    "# s += [np.sum(X[i,:]*grid[i,:])==e for i,e in enumerate(col_labels)] # Sum values in the column to get the value equal to the corresponding given border value.\n",
    "for i in range(9):\n",
    "    s += Sum([X[i][j] * int(grid[i][j]) for j in range(9)]) == col_labels[i]\n",
    "# s += [np.sum(X[:,i]*grid[:,i])==e for i,e in enumerate(row_labels)] # Sum values in the row to get the value equal to the corresponding given border value.\n",
    "for j in range(9):\n",
    "    s += Sum([X[i][j] * int(grid[i][j]) for i in range(9)]) == row_labels[j]\n",
    "s += [PbEq([(e*int(grid[i,j])==n,1) for (i,j),e in np.ndenumerate(X)],n) for n in range(1,10)] # Combine both column and row sums conditions"
   ]
  },
  {
   "cell_type": "markdown",
   "id": "04a8aa2b-8ca7-4dba-9027-2c95a10da916",
   "metadata": {},
   "source": [
    "<div class=\"alert alert-block alert-warning\">\n",
    "<b>Warning:</b> The values returned by grid[i][j] were not integers, so we need to change their type before applying the any mathematical operations.\n",
    "</div>"
   ]
  },
  {
   "cell_type": "markdown",
   "id": "7dbbe1c7-e46c-4d58-b6e6-c47ec1648c0e",
   "metadata": {},
   "source": [
    "### PbEq in z3"
   ]
  },
  {
   "cell_type": "markdown",
   "id": "c3d30438-6a9f-48b8-91a2-3e0fc7e831b2",
   "metadata": {},
   "source": [
    "**PbEq** in Z3 stands for \"pseudo-Boolean equality constraint,\" which is a type of constraint used in pseudo-Boolean optimization. Pseudo-Boolean optimization is a generalization of Boolean optimization where variables are allowed to take values from a larger domain (usually integers) rather than just true or false.\n",
    "\n",
    "In Z3, PbEq is a function that creates a pseudo-Boolean equality constraint. The pseudo-Boolean equality constraint is typically expressed as a weighted sum of Boolean variables (often called pseudo-Boolean variables) being equal to a given integer constant. It has the general form:"
   ]
  },
  {
   "cell_type": "markdown",
   "id": "c07939a1-9a57-4815-9ec5-deeb7a7562ae",
   "metadata": {},
   "source": [
    "$$a1 * x1 + a2 * x2 + ... + an * xn == k$$"
   ]
  },
  {
   "cell_type": "markdown",
   "id": "6945e3fe-5165-4e57-b020-2bb68fdb4f6b",
   "metadata": {},
   "source": [
    "Here, x1, x2, ..., xn are Boolean variables, a1, a2, ..., an are their corresponding weights (usually integers), and k is the target integer constant."
   ]
  },
  {
   "cell_type": "markdown",
   "id": "c2f21767-88b6-4918-bddd-93509bfc6714",
   "metadata": {},
   "source": [
    "Here's a simple example of using **PbEq** in z3:"
   ]
  },
  {
   "cell_type": "code",
   "execution_count": 82,
   "id": "32ccdd31-48e6-4d13-9d16-c4dd01ae04b3",
   "metadata": {},
   "outputs": [
    {
     "name": "stdout",
     "output_type": "stream",
     "text": [
      "Pseudo-Boolean equality constraint: PbEq(((x1, 2), (x2, -1), (x3, 3)), 1)\n"
     ]
    }
   ],
   "source": [
    "# Define the Boolean variables\n",
    "x1 = Bool('x1')\n",
    "x2 = Bool('x2')\n",
    "x3 = Bool('x3')\n",
    "\n",
    "# Define the weights for the Boolean variables\n",
    "a1 = 2\n",
    "a2 = -1\n",
    "a3 = 3\n",
    "\n",
    "# Define the target integer constant\n",
    "k = 1\n",
    "\n",
    "# Create the pseudo-Boolean equality constraint: a1 * x1 + a2 * x2 + a3 * x3 == k\n",
    "pb_eq_constraint = PbEq([(x1, a1), (x2, a2), (x3, a3)], k)\n",
    "\n",
    "# Print the pseudo-Boolean equality constraint\n",
    "print(\"Pseudo-Boolean equality constraint:\", pb_eq_constraint)"
   ]
  },
  {
   "cell_type": "markdown",
   "id": "ea24284b-eed1-427e-a802-1a1c068c6e0c",
   "metadata": {},
   "source": [
    "In this example, we create a pseudo-Boolean equality constraint $$2 * x1 - x2 + 3 * x3 == 1$$"
   ]
  },
  {
   "cell_type": "code",
   "execution_count": 132,
   "id": "6788ca62-44e2-4924-aa91-cf683a2b9c2d",
   "metadata": {},
   "outputs": [
    {
     "data": {
      "text/markdown": [
       "**Solved in 0.1489 seconds. Answer is : 158**"
      ],
      "text/plain": [
       "<IPython.core.display.Markdown object>"
      ]
     },
     "metadata": {},
     "output_type": "display_data"
    },
    {
     "data": {
      "image/png": "[encoded data removed]",
      "text/plain": [
       "<Figure size 300x300 with 1 Axes>"
      ]
     },
     "metadata": {},
     "output_type": "display_data"
    }
   ],
   "source": [
    "# Solve and print \n",
    "start =  time.time()\n",
    "if s.check() == sat:\n",
    "    m = s.model()\n",
    "    evalu = np.vectorize(lambda x:m.evaluate(x).as_long())\n",
    "    r = evalu(X)\n",
    "else:\n",
    "    print(\"Failed\")\n",
    "    \n",
    "display(Markdown(\"**Solved in {:.4f} seconds. Answer is : {:.0f}**\".format(time.time()-start,\n",
    "                                                                   sum([e for (i,j),e in np.ndenumerate(r*grid) if (i+j) % 2 ==0])\n",
    "                                                                  )))\n",
    "fig,ax = plt.subplots(1,1,figsize=(3,3))\n",
    "pretty = np.vectorize(lambda x:str(int(x)).replace('0',''))\n",
    "ax = sns.heatmap(grid,annot=pretty(r*grid),fmt='',cbar=False,cmap=\"tab20\",linecolor='k',linewidth=2,\n",
    "                 xticklabels=row_labels, yticklabels=col_labels, annot_kws={\"fontsize\":10,\"color\":\"k\"},alpha=0.8)\n",
    "ax.tick_params(left=False, bottom=False,labelleft=False, labelright=True)\n",
    "plt.xticks(rotation=0,fontsize =10)\n",
    "plt.yticks(rotation=0,fontsize =10)\n",
    "plt.tight_layout()\n",
    "plt.show()"
   ]
  },
  {
   "cell_type": "markdown",
   "id": "44b6abfc-bd2b-4035-989f-bff60fc5e271",
   "metadata": {},
   "source": [
    "<div class=\"alert alert-info\">\n",
    "  <h1>Public Solution</h1>\n",
    "</div>"
   ]
  },
  {
   "cell_type": "markdown",
   "id": "5803e756-aea4-4b40-a0b0-e1dd41d701a3",
   "metadata": {},
   "source": [
    "<img src=\"https://www.janestreet.com/puzzles/Feb14_Solution.png\" width=720 height=50 />\n",
    "\n",
    "The BEST SOLUTION was publised at https://www.janestreet.com/puzzles/hooks-solution/"
   ]
  },
  {
   "cell_type": "code",
   "execution_count": null,
   "id": "6d4010e5-c115-4247-94a4-3cce06c21d55",
   "metadata": {},
   "outputs": [],
   "source": []
  }
 ],
 "metadata": {
  "kernelspec": {
   "display_name": "Python 3 (ipykernel)",
   "language": "python",
   "name": "python3"
  },
  "language_info": {
   "codemirror_mode": {
    "name": "ipython",
    "version": 3
   },
   "file_extension": ".py",
   "mimetype": "text/x-python",
   "name": "python",
   "nbconvert_exporter": "python",
   "pygments_lexer": "ipython3",
   "version": "3.10.9"
  }
 },
 "nbformat": 4,
 "nbformat_minor": 5
}
